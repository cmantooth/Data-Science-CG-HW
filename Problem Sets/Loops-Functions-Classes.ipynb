{
 "cells": [
  {
   "cell_type": "markdown",
   "metadata": {},
   "source": [
    "\n",
    "#### Loops, Functions and Classes\n",
    "1. Do this homework **in order**. \n",
    "2. Be sure to have a solid understanding of Functions before working with Classes. "
   ]
  },
  {
   "cell_type": "code",
   "execution_count": null,
   "metadata": {},
   "outputs": [],
   "source": []
  },
  {
   "cell_type": "markdown",
   "metadata": {},
   "source": [
    "1. Iterate through `integers_list` and `print` values that are multiples of 7."
   ]
  },
  {
   "cell_type": "code",
   "execution_count": 15,
   "metadata": {},
   "outputs": [
    {
     "name": "stdout",
     "output_type": "stream",
     "text": [
      "182\n",
      "35\n",
      "196\n",
      "259\n",
      "238\n",
      "119\n",
      "735\n",
      "630\n"
     ]
    }
   ],
   "source": [
    "import random\n",
    "integers_list = [random.randint(0,1000) for i in range(50)] # a list comprehension\n",
    "\n",
    "for i in integers_list :\n",
    "    if (i % 7 == 0) :\n",
    "        print (i)"
   ]
  },
  {
   "cell_type": "markdown",
   "metadata": {},
   "source": [
    "2. Create `list` of 5 colors as `strings` which are all lowercase. \n",
    "Iterate through the `list` and capitalize each color. \n",
    "You should modify the `list` in place. "
   ]
  },
  {
   "cell_type": "code",
   "execution_count": 26,
   "metadata": {},
   "outputs": [
    {
     "name": "stdout",
     "output_type": "stream",
     "text": [
      "Azul\n",
      "Rojo\n",
      "Amarillo\n",
      "Verde\n",
      "Morado\n"
     ]
    }
   ],
   "source": [
    "list = [\"azul\", \"rojo\", \"amarillo\", \"verde\", \"morado\"]\n",
    "\n",
    "for color in list :\n",
    "    print (color.capitalize())\n",
    "    \n"
   ]
  },
  {
   "cell_type": "markdown",
   "metadata": {},
   "source": [
    "3. Loop through the string and eliminate all the asterisks."
   ]
  },
  {
   "cell_type": "code",
   "execution_count": 290,
   "metadata": {},
   "outputs": [
    {
     "name": "stdout",
     "output_type": "stream",
     "text": [
      "My computer has gone crazy and added extra symbols."
     ]
    }
   ],
   "source": [
    "asterisk = 'My *compu*ter has go*ne craz***y an*d add*ed extra *symbols.*'\n",
    "\n",
    "for letter in asterisk :\n",
    "    if letter != \"*\" :      \n",
    "        #print (letter)--vertical\n",
    "        #print (\"\".join(letter))--still vertical\n",
    "        print (letter, end= '') #--YES!\n",
    "      \n",
    "    \n",
    "\n",
    "        \n",
    "            \n"
   ]
  },
  {
   "cell_type": "markdown",
   "metadata": {},
   "source": [
    "4. Write a `while` loop that increments `counter` until it reaches 7."
   ]
  },
  {
   "cell_type": "code",
   "execution_count": 28,
   "metadata": {},
   "outputs": [
    {
     "name": "stdout",
     "output_type": "stream",
     "text": [
      "1\n",
      "2\n",
      "3\n",
      "4\n",
      "5\n",
      "6\n",
      "7\n"
     ]
    }
   ],
   "source": [
    "counter = 0\n",
    "\n",
    "while counter < 7 :\n",
    "    counter = counter + 1\n",
    "    print (counter)"
   ]
  },
  {
   "cell_type": "markdown",
   "metadata": {},
   "source": [
    "5. Loop over `double_trouble` and eliminate any 'mosquito'."
   ]
  },
  {
   "cell_type": "code",
   "execution_count": 8,
   "metadata": {},
   "outputs": [
    {
     "name": "stdout",
     "output_type": "stream",
     "text": [
      "catdogmouse\n",
      "bat\n",
      "elephantdogwhalelion32\n",
      "birdmosquitoe"
     ]
    }
   ],
   "source": [
    "double_trouble = ['cat', 'dog', ['mouse','mosquito','bat','mosquito'],['elephant','dog','whale','lion',32,'mosquito'],'bird',[],'mosquitoe']\n",
    " #to see list with index\n",
    "# for index, item in enumerate (double_trouble):\n",
    "#     print (index, item)\n",
    "    \n",
    "#to remove mosquito strings    \n",
    "#for index in double_trouble:\n",
    "    #for item in index:\n",
    "        #if item == \"mosquito\":\n",
    "            #print ('')\n",
    "            #continue\n",
    "        #print (item)\n",
    "        \n",
    "#to get rid of spaces between strings \n",
    "#no_mosquitos=[]\n",
    "for index in double_trouble:      \n",
    "    for item in index:\n",
    "        if item == \"mosquito\":\n",
    "            print()\n",
    "#         #if item != \"mosquito\":\n",
    "#             #no_mosquitos.append(item)\n",
    "            continue\n",
    "        print (item)\n",
    "        #print (no_mosquitos, end= '')\n",
    "       \n",
    "    #I'd rather do an append list next time\n",
    "\n",
    "\n",
    "        \n",
    "    \n",
    "        \n",
    "    "
   ]
  },
  {
   "cell_type": "markdown",
   "metadata": {},
   "source": [
    "6. Loop through the dictionary of phone numbers and correct the parentheses. "
   ]
  },
  {
   "cell_type": "code",
   "execution_count": 67,
   "metadata": {},
   "outputs": [
    {
     "name": "stdout",
     "output_type": "stream",
     "text": [
      "Jill:1-(555)-567-8910\n",
      "Jen:1-(555)-567-8910\n",
      "Jan:1-(555)-567-8910\n",
      "Jane:1-(555)-567-8910\n",
      "Jerri:1-(555)-567-8910\n"
     ]
    }
   ],
   "source": [
    "phone_numbers = {'Jill':'1-)555(-567-8910',\n",
    "                'Jen':'1-)555(-567-8910',\n",
    "                'Jan':'1-)555(-567-8910',\n",
    "                'Jane':'1-)555(-567-8910',\n",
    "                'Jerri':'1-)555(-567-8910'}\n",
    "\n",
    "for key,value in phone_numbers.items():\n",
    "    phone_numbers[key] = '1-(555)-567-8910'\n",
    "    "
   ]
  },
  {
   "cell_type": "markdown",
   "metadata": {},
   "source": [
    "7. Create a function that takes in two numbers.\n",
    "\n",
    "If the numbers are both even add them and `return` the result.\n",
    "\n",
    "If the numbers are odd, subtract the second number from the first and `return` the result.\n",
    "\n",
    "(Assume you'll always get integers)"
   ]
  },
  {
   "cell_type": "code",
   "execution_count": 88,
   "metadata": {},
   "outputs": [
    {
     "data": {
      "text/plain": [
       "6"
      ]
     },
     "execution_count": 88,
     "metadata": {},
     "output_type": "execute_result"
    }
   ],
   "source": [
    "def even_odd(a, b) :\n",
    "    if int(a) % 2 == 0 and int(b) % 2 == 0:\n",
    "        return a + b\n",
    "    else: \n",
    "        return a - b\n",
    "\n",
    "even_odd(2, 4)\n"
   ]
  },
  {
   "cell_type": "markdown",
   "metadata": {},
   "source": [
    "8. Create a function that takes in a `string` and removes all non-alphanumeric characters."
   ]
  },
  {
   "cell_type": "code",
   "execution_count": 251,
   "metadata": {},
   "outputs": [
    {
     "data": {
      "text/plain": [
       "'mydogis11yearsold'"
      ]
     },
     "execution_count": 251,
     "metadata": {},
     "output_type": "execute_result"
    }
   ],
   "source": [
    "def string_alt(words) :\n",
    "    an = []\n",
    "    for char in words:\n",
    "        if char.isalnum() : \n",
    "                an.append(char)\n",
    "           #words = words.replace(char,\"\")\n",
    "        else :\n",
    "            #return []\n",
    "        #return chr.alphanumeric\n",
    "            #return (an)\n",
    "            pass\n",
    "    return(\"\".join(an))\n",
    "        \n",
    "             \n",
    "        \n",
    "string_alt('my @ dog & is $ 11 years old')\n",
    "      \n"
   ]
  },
  {
   "cell_type": "markdown",
   "metadata": {},
   "source": [
    "9. Create a function to convert Celsius to Farenheight and print the result. \n",
    "\n",
    "Bonus(Optional): Include the degree symbol in the output."
   ]
  },
  {
   "cell_type": "code",
   "execution_count": 284,
   "metadata": {},
   "outputs": [
    {
     "data": {
      "text/plain": [
       "212.0"
      ]
     },
     "execution_count": 284,
     "metadata": {},
     "output_type": "execute_result"
    }
   ],
   "source": [
    "def cel_far(C) :\n",
    "    return C * 9/5 + 32 \n",
    "   \n",
    "\n",
    "\n",
    "cel_far(100)"
   ]
  },
  {
   "cell_type": "markdown",
   "metadata": {},
   "source": [
    "10. Create a function that prints the fibonacci sequence from 0 to 25. "
   ]
  },
  {
   "cell_type": "code",
   "execution_count": 95,
   "metadata": {},
   "outputs": [
    {
     "name": "stdout",
     "output_type": "stream",
     "text": [
      "1\n",
      "2\n",
      "3\n",
      "5\n",
      "8\n",
      "13\n",
      "21\n",
      "34\n",
      "55\n",
      "89\n",
      "144\n",
      "233\n",
      "377\n",
      "610\n",
      "987\n",
      "1597\n",
      "2584\n",
      "4181\n",
      "6765\n",
      "10946\n",
      "17711\n",
      "28657\n",
      "46368\n",
      "75025\n",
      "121393\n"
     ]
    }
   ],
   "source": [
    "def fib_seq(nth_term):\n",
    "    #nth_term = int(input \"nth term Fib Seq\")\n",
    "    a = 0\n",
    "    b = 1\n",
    "    for i in range(0, nth_term) :\n",
    "        if nth_term > 25:\n",
    "            print (\"TOO BIG\")\n",
    "        elif nth_term < 0:\n",
    "            print (\"TOO SMALL\")\n",
    "        elif nth_term ==0 :\n",
    "            print (0)\n",
    "        elif nth_term ==1 :\n",
    "            print (1)\n",
    "        else:\n",
    "            print (a + b)\n",
    "            next_= a + b\n",
    "            a = b\n",
    "            b = next_\n",
    "        \n",
    "#Changes that had to be made: \n",
    "#move the for-loop to the top (duh!--everything has to be inside of the for-loop), \n",
    "#print a+b b/c printing the a+b value\n",
    "#next is a function in Python so add the underscore to make it an object next_\n",
    "\n",
    "    \n",
    "fib_seq(25)"
   ]
  },
  {
   "cell_type": "code",
   "execution_count": null,
   "metadata": {},
   "outputs": [],
   "source": []
  },
  {
   "cell_type": "markdown",
   "metadata": {},
   "source": [
    "11. Create two functions. One function that accepts args `a` and `b` and returns `a + b`. \n",
    "\n",
    "Create a second function that accepts the first function as the 3rd argument as well as a and b.\n"
   ]
  },
  {
   "cell_type": "code",
   "execution_count": 34,
   "metadata": {},
   "outputs": [],
   "source": [
    "# you do the first function\n",
    "def F1 (a, b) :\n",
    "    c = (a + b)\n",
    "    return (c)\n",
    "# second function\n",
    "# Here's some starter code to avoid confusion.\n",
    "# Functions can be passed around like any other object. \n",
    "def F2(a, b, c) :\n",
    "    math = a * b + c \n",
    "    return math\n",
    "\n",
    "#need to store answer for F1 as a new variable\n",
    "result = F1(7, 3)\n",
    "\n",
    "\n",
    "\n"
   ]
  },
  {
   "cell_type": "code",
   "execution_count": 35,
   "metadata": {},
   "outputs": [
    {
     "data": {
      "text/plain": [
       "31"
      ]
     },
     "execution_count": 35,
     "metadata": {},
     "output_type": "execute_result"
    }
   ],
   "source": [
    "F2(7, 3, result)"
   ]
  },
  {
   "cell_type": "markdown",
   "metadata": {},
   "source": [
    "12. Create a function that prints prime number from 0 to 100. "
   ]
  },
  {
   "cell_type": "code",
   "execution_count": 25,
   "metadata": {},
   "outputs": [
    {
     "name": "stdout",
     "output_type": "stream",
     "text": [
      "2\n",
      "3\n",
      "5\n",
      "7\n",
      "11\n",
      "13\n",
      "17\n",
      "19\n",
      "23\n",
      "29\n",
      "31\n",
      "37\n",
      "41\n",
      "43\n",
      "47\n",
      "53\n",
      "59\n",
      "61\n",
      "67\n",
      "71\n",
      "73\n",
      "79\n",
      "83\n",
      "89\n",
      "97\n"
     ]
    },
    {
     "data": {
      "text/plain": [
       "'\\ndef is_prime(n):\\n    status = True\\n    if n < 2:\\n        status = False\\n    else:\\n        for i in range(2,n):\\n            if n % i == 0:\\n                status = False\\n    return status\\n\\nfor n in range(1,101):\\n    if is_prime(n):\\n        if n==97:\\n            print n\\n        else:\\n            print n,\",\", '"
      ]
     },
     "execution_count": 25,
     "metadata": {},
     "output_type": "execute_result"
    }
   ],
   "source": [
    "def prime_range(x):\n",
    "    #gives prime numbers up to x number\n",
    "    for num in range(2,x):\n",
    "        if all(num%i!=0 for i in range(2,num)):\n",
    "             return(num)\n",
    "\n",
    "\n",
    "x=101\n",
    "prime_range(x)\n",
    "for num in range(2,101):\n",
    "    if all(num%i!=0 for i in range(2,num)):\n",
    "        print(num)\n",
    "\n",
    "\n",
    "\n",
    "\n",
    "\"\"\"def prime(num) :\n",
    "    status = True\n",
    "    if num < 2:\n",
    "        status = False\n",
    "    else:\n",
    "        for i in range(2, num):\n",
    "            if n % i != 0:\n",
    "                status = True\n",
    "    return status \n",
    "            #if all (num % i != 0 for i in range (2, 101)):\n",
    "        \n",
    "for num in range(2, 101) :\n",
    "    if prime(num):\n",
    "        if num ==100:\n",
    "            print (num)\n",
    "        else:\n",
    "            print (num,'','')\"\"\"\n",
    "                \n",
    "\n",
    "\n",
    "\"\"\"\n",
    "def is_prime(n):\n",
    "    status = True\n",
    "    if n < 2:\n",
    "        status = False\n",
    "    else:\n",
    "        for i in range(2,n):\n",
    "            if n % i == 0:\n",
    "                status = False\n",
    "    return status\n",
    "\n",
    "for n in range(1,101):\n",
    "    if is_prime(n):\n",
    "        if n==97:\n",
    "            print n\n",
    "        else:\n",
    "            print n,\",\", \"\"\"\n",
    "    "
   ]
  },
  {
   "cell_type": "markdown",
   "metadata": {},
   "source": [
    "13. Now's your chance to show off. Create a function that does something that has not already been done in the homework. Get creative. "
   ]
  },
  {
   "cell_type": "code",
   "execution_count": 36,
   "metadata": {},
   "outputs": [
    {
     "name": "stdout",
     "output_type": "stream",
     "text": [
      "badger, badger, badger, badger, badger, badger, bager, badger\n",
      "mushroom! mushroom!\n",
      "badger, badger, badger, badger, badger, badger, bager, badger\n",
      "badger, badger, badger, badger, badger, badger, bager, badger\n",
      "snake!\n",
      "its a\n",
      "snake!\n",
      "its a\n",
      "badger, badger, badger, badger, badger, badger, bager, badger\n"
     ]
    }
   ],
   "source": [
    "def badger ():\n",
    "    print('badger, badger, badger, badger, badger, badger, bager, badger')\n",
    "\n",
    "def mushroom ():\n",
    "    print ('mushroom! mushroom!')\n",
    "    \n",
    "def snake ():\n",
    "    print ('snake!')\n",
    "    \n",
    "def itsa ():\n",
    "    print ('its a')\n",
    "    \n",
    "def whole():\n",
    "    badger()\n",
    "    mushroom()\n",
    "    badger()\n",
    "    badger()\n",
    "    snake()\n",
    "    itsa()\n",
    "    snake()\n",
    "    itsa()\n",
    "    badger()\n",
    "    \n",
    "#Badgers and Snakes\n",
    "whole()\n",
    "    \n"
   ]
  },
  {
   "cell_type": "markdown",
   "metadata": {},
   "source": [
    "14. Add an attribute called `age` to the `__init__` method of the `Person` class.\n",
    "\n",
    "Create an instance of `Person()` and print the `age`."
   ]
  },
  {
   "cell_type": "code",
   "execution_count": 17,
   "metadata": {},
   "outputs": [
    {
     "name": "stdout",
     "output_type": "stream",
     "text": [
      "my name is Corissa Mantooth I am 30 years old.\n"
     ]
    }
   ],
   "source": [
    "class Person():\n",
    "    \n",
    "    def __init__(self, name='Corissa Mantooth', occupation='tutor', country='USA', age='30'):\n",
    "        self.name = name\n",
    "        self.occupation = occupation\n",
    "        self.country = country\n",
    "        self.age = age\n",
    "        \n",
    "person = Person()\n",
    "print('my name is', person.name, 'I am', person.age, 'years old.')\n",
    "    "
   ]
  },
  {
   "cell_type": "markdown",
   "metadata": {},
   "source": [
    "15. Creat an instance of the class `Candy`. \n",
    "\n",
    "Add an attribute called `cost` on your instance. (Don't modify the class starter code.)\n",
    "\n",
    "Print the instance's `cost` attribute.\n",
    "\n",
    "Bonus(optional): Add a function of your choice to the instance. "
   ]
  },
  {
   "cell_type": "code",
   "execution_count": 9,
   "metadata": {},
   "outputs": [
    {
     "name": "stdout",
     "output_type": "stream",
     "text": [
      "my snack costs: 1.25\n"
     ]
    }
   ],
   "source": [
    "class Candy():\n",
    "    \n",
    "    def __init__(self, kind='chocolate', brand= 'Nestle', caramel = False):\n",
    "        self.type = kind\n",
    "        self.brand = brand\n",
    "        self.caramel = caramel\n",
    "        self.cost = '1.25'\n",
    "my_snack = Candy()\n",
    "print (\"my snack costs:\", my_snack.cost)\n",
    "        "
   ]
  },
  {
   "cell_type": "markdown",
   "metadata": {},
   "source": [
    "16. Add an instance method to our class `Greet` that prints a greeting including `greeting` and the `name`. \n",
    "\n",
    "Example:\n",
    "\n",
    "`jen = Greet()`\n",
    "\n",
    "`jen.greet_method()` returns `\"Hello Jennifer\"`\n"
   ]
  },
  {
   "cell_type": "code",
   "execution_count": 18,
   "metadata": {},
   "outputs": [
    {
     "name": "stdout",
     "output_type": "stream",
     "text": [
      "Hi Corissa\n"
     ]
    }
   ],
   "source": [
    "class Greet():\n",
    "    \n",
    "    def __init__(self, name= 'Corissa', language = 'english', greeting = 'Hi'):\n",
    "        \n",
    "        self.name = name\n",
    "        self.language = language\n",
    "        self.greeting = greeting\n",
    "        \n",
    "        \n",
    "greet_me = Greet()\n",
    "print(greet_me.greeting, greet_me.name)\n",
    "\n",
    "#So helpful! https://www.digitalocean.com/community/tutorials/understanding-class-and-instance-variables-in-python-3"
   ]
  },
  {
   "cell_type": "markdown",
   "metadata": {},
   "source": [
    "17. Add a line to the follwing code that will increment `employee_count` by 1 for **all** instances of `Employee`.\n",
    "\n",
    "The code should run each time an new instance of`Employee` is created. \n",
    "\n",
    "Hint: You don't need methods. Just a single expression will work. And it does NOT inlcude the word `self`. "
   ]
  },
  {
   "cell_type": "code",
   "execution_count": 19,
   "metadata": {},
   "outputs": [
    {
     "name": "stdout",
     "output_type": "stream",
     "text": [
      "1\n",
      "2\n"
     ]
    }
   ],
   "source": [
    "class Employee():\n",
    "    \n",
    "    # class variables. Applies to all instances of this class during creation.\n",
    "    yearly_bonus = 1.01 # not used anywhere in this example\n",
    "    \n",
    "    employee_count = 0 # This variable will change for all instances of the class.\n",
    "    \n",
    "       \n",
    "    def __init__(self,name, age, base_pay): # creates an instance of our object with unique attributes\n",
    "        \n",
    "        self.name = name\n",
    "        self.age = age\n",
    "        self.base_pay = base_pay\n",
    "        \n",
    "        \n",
    "        Employee.employee_count +=1 #How to incremently add employees in the list, i.e. there are two employees\n",
    "        \n",
    "        \n",
    "emp1 = Employee('Matt', 32,40000)\n",
    "print(emp1.employee_count) # should be 1 if the __init__ method is working properly. \n",
    "\n",
    "emp2 = emp1 = Employee('Joe', 22,50000) # should be 2 if the __init__ method is working properly. \n",
    "print(emp2.employee_count)\n",
    "\n"
   ]
  },
  {
   "cell_type": "markdown",
   "metadata": {},
   "source": [
    "18 . Add a `static` method of your choice to the class below. \n",
    "\n",
    "Instaiate an object and call your method. \n",
    "\n",
    "What is a static method anyway? \n"
   ]
  },
  {
   "cell_type": "code",
   "execution_count": 42,
   "metadata": {},
   "outputs": [
    {
     "name": "stdout",
     "output_type": "stream",
     "text": [
      "Meryl Streep: This is my line...\n",
      "71\n",
      "True\n",
      "70\n",
      "True\n",
      "69\n",
      "True\n",
      "68\n",
      "True\n",
      "67\n",
      "True\n",
      "66\n",
      "True\n",
      "65\n",
      "True\n",
      "64\n",
      "True\n",
      "63\n",
      "True\n",
      "62\n",
      "True\n",
      "61\n",
      "True\n",
      "60\n",
      "True\n",
      "59\n",
      "True\n",
      "58\n",
      "True\n",
      "57\n",
      "True\n",
      "56\n",
      "True\n",
      "55\n",
      "True\n",
      "54\n",
      "True\n",
      "53\n",
      "True\n",
      "52\n",
      "True\n",
      "51\n",
      "True\n",
      "50\n",
      "True\n"
     ]
    }
   ],
   "source": [
    "class actress():\n",
    "    def __init__(self, name = 'Meryl Streep', movies = 72):\n",
    "        self.name = name\n",
    "        self.movies = movies\n",
    "        \n",
    "    def act(self, line):\n",
    "        print(f'{self.name}: {line}')\n",
    "    \n",
    "    @staticmethod   \n",
    "    def lots_movies(movies):\n",
    "        return movies > 50\n",
    "        \n",
    "        \n",
    "           \n",
    "meryl = actress()\n",
    "meryl.act('This is my line...')\n",
    "\n",
    "counter = 72\n",
    "while actress.lots_movies(meryl.movies) :\n",
    "    counter = counter - 1\n",
    "    print (counter)\n",
    "    print(actress.lots_movies(meryl.movies))\n",
    "    meryl.movies=counter\n"
   ]
  },
  {
   "cell_type": "code",
   "execution_count": null,
   "metadata": {},
   "outputs": [],
   "source": []
  },
  {
   "cell_type": "markdown",
   "metadata": {},
   "source": [
    "19. Create a `class` called Car that accepts 3 attributes (make, model and year). \n",
    "\n",
    "In the `__init__` method give your instance those three attributes. \n",
    "\n",
    "Instantiate (create) an object that is your dream car. \n",
    "\n",
    "Print the make of your dream car using the object attributes. \n",
    "\n",
    "Then call the dir() method on your new object. (See your attrs are now included!)"
   ]
  },
  {
   "cell_type": "code",
   "execution_count": null,
   "metadata": {},
   "outputs": [],
   "source": []
  },
  {
   "cell_type": "markdown",
   "metadata": {},
   "source": [
    "20. Create a class called `Dice` that accepts a single argument called `number_of_dice`. \n",
    "\n",
    "Create an instance method called `roll`. \n",
    "\n",
    "`roll` should randomly pick a number for each die when called and print the results as a list. \n",
    "\n",
    "Create an instance of `Dice`. Then call `roll()` on your instance.\n",
    "\n",
    "Hint: Inside your class create an empty list called `dice`."
   ]
  },
  {
   "cell_type": "code",
   "execution_count": 12,
   "metadata": {},
   "outputs": [
    {
     "name": "stdout",
     "output_type": "stream",
     "text": [
      "3\n"
     ]
    }
   ],
   "source": [
    "# Helpful starter code\n",
    "from random import randrange\n",
    "\n",
    "print(randrange(1,7)) # randomly generates a number between 1 and 6"
   ]
  },
  {
   "cell_type": "code",
   "execution_count": null,
   "metadata": {},
   "outputs": [],
   "source": []
  },
  {
   "cell_type": "markdown",
   "metadata": {},
   "source": [
    "Bonus(optional):\n",
    "\n",
    "0. Create a class of your choice.\n",
    "1. Give it instance variables and class variables. \n",
    "2. Give it a classmethod. \n",
    "3. Give it a regular method (instance method).\n",
    "4. Give it a static method. \n",
    "\n",
    "Show how each works by printing an example. "
   ]
  },
  {
   "cell_type": "code",
   "execution_count": null,
   "metadata": {},
   "outputs": [],
   "source": []
  }
 ],
 "metadata": {
  "kernelspec": {
   "display_name": "Python 3",
   "language": "python",
   "name": "python3"
  },
  "language_info": {
   "codemirror_mode": {
    "name": "ipython",
    "version": 3
   },
   "file_extension": ".py",
   "mimetype": "text/x-python",
   "name": "python",
   "nbconvert_exporter": "python",
   "pygments_lexer": "ipython3",
   "version": "3.7.8"
  }
 },
 "nbformat": 4,
 "nbformat_minor": 4
}
