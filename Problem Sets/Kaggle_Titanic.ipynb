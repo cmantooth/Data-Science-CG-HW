{
 "cells": [
  {
   "cell_type": "code",
   "execution_count": 2,
   "metadata": {},
   "outputs": [
    {
     "name": "stdout",
     "output_type": "stream",
     "text": [
      "(891, 12)\n",
      "(418, 11)\n"
     ]
    }
   ],
   "source": [
    "import numpy as np\n",
    "import pandas as pd\n",
    "\n",
    "train_set = pd.read_csv('train.csv')\n",
    "test_set = pd.read_csv('test.csv')\n",
    "\n",
    "print(train_set.shape)\n",
    "print(test_set.shape)"
   ]
  },
  {
   "cell_type": "code",
   "execution_count": 3,
   "metadata": {},
   "outputs": [],
   "source": [
    "train_set = train_set.drop('Name', axis = 1)\n",
    "test_set = test_set.drop('Name', axis = 1)"
   ]
  },
  {
   "cell_type": "code",
   "execution_count": 4,
   "metadata": {},
   "outputs": [],
   "source": [
    "train_set = train_set.drop('Ticket', axis = 1)\n",
    "test_set = test_set.drop('Ticket', axis = 1)"
   ]
  },
  {
   "cell_type": "code",
   "execution_count": 5,
   "metadata": {},
   "outputs": [],
   "source": [
    "train_set = train_set.drop('Cabin', axis = 1)\n",
    "test_set = test_set.drop('Cabin', axis = 1)"
   ]
  },
  {
   "cell_type": "code",
   "execution_count": 6,
   "metadata": {},
   "outputs": [
    {
     "name": "stdout",
     "output_type": "stream",
     "text": [
      "min: 0.0 max: 512.3292 mean: 32.204207968574636\n",
      "<bound method NDFrame.head of 0      1\n",
      "1      4\n",
      "2      1\n",
      "3      4\n",
      "4      1\n",
      "      ..\n",
      "886    2\n",
      "887    3\n",
      "888    3\n",
      "889    3\n",
      "890    1\n",
      "Name: Fare, Length: 891, dtype: category\n",
      "Categories (7, object): ['1' < '2' < '3' < '4' < '5' < '6' < '7']>\n",
      "['binned_fares']\n"
     ]
    }
   ],
   "source": [
    "#in looking at data it seems like fare would be important, but I want to bin it to get a bit more general\n",
    "\n",
    "print('min:', train_set['Fare'].min(), \n",
    "'max:', train_set['Fare'].max(),\n",
    "'mean:', train_set['Fare'].mean())\n",
    "\n",
    "fare_bins = [0, 9, 19, 49, 79, 99, 199, 515]\n",
    "fare_names = [\"1\", \"2\", \"3\", \"4\", \"5\", \"6\", \"7\"]\n",
    "\n",
    "binned_fares = pd.cut(train_set['Fare'], fare_bins, labels = fare_names)\n",
    "print(binned_fares.head)\n",
    "print(np.unique('binned_fares'))\n",
    "\n"
   ]
  },
  {
   "cell_type": "code",
   "execution_count": 7,
   "metadata": {},
   "outputs": [
    {
     "name": "stdout",
     "output_type": "stream",
     "text": [
      "   PassengerId  Pclass     Sex   Age  SibSp  Parch     Fare Embarked  \\\n",
      "0          892       3    male  34.5      0      0   7.8292        Q   \n",
      "1          893       3  female  47.0      1      0   7.0000        S   \n",
      "2          894       2    male  62.0      0      0   9.6875        Q   \n",
      "3          895       3    male  27.0      0      0   8.6625        S   \n",
      "4          896       3  female  22.0      1      1  12.2875        S   \n",
      "\n",
      "  binned_fares  \n",
      "0            1  \n",
      "1            1  \n",
      "2            2  \n",
      "3            1  \n",
      "4            2  \n"
     ]
    }
   ],
   "source": [
    "binned_fares_test = pd.cut(test_set['Fare'], fare_bins, labels = fare_names)\n",
    "test_set['binned_fares'] = binned_fares_test\n",
    "print(test_set.head(5))"
   ]
  },
  {
   "cell_type": "code",
   "execution_count": 8,
   "metadata": {},
   "outputs": [
    {
     "data": {
      "text/html": [
       "<div>\n",
       "<style scoped>\n",
       "    .dataframe tbody tr th:only-of-type {\n",
       "        vertical-align: middle;\n",
       "    }\n",
       "\n",
       "    .dataframe tbody tr th {\n",
       "        vertical-align: top;\n",
       "    }\n",
       "\n",
       "    .dataframe thead th {\n",
       "        text-align: right;\n",
       "    }\n",
       "</style>\n",
       "<table border=\"1\" class=\"dataframe\">\n",
       "  <thead>\n",
       "    <tr style=\"text-align: right;\">\n",
       "      <th></th>\n",
       "      <th>PassengerId</th>\n",
       "      <th>Survived</th>\n",
       "      <th>Pclass</th>\n",
       "      <th>Sex</th>\n",
       "      <th>Age</th>\n",
       "      <th>SibSp</th>\n",
       "      <th>Parch</th>\n",
       "      <th>Fare</th>\n",
       "      <th>Embarked</th>\n",
       "      <th>binned_fares</th>\n",
       "    </tr>\n",
       "  </thead>\n",
       "  <tbody>\n",
       "    <tr>\n",
       "      <th>0</th>\n",
       "      <td>1</td>\n",
       "      <td>0</td>\n",
       "      <td>3</td>\n",
       "      <td>male</td>\n",
       "      <td>22.0</td>\n",
       "      <td>1</td>\n",
       "      <td>0</td>\n",
       "      <td>7.2500</td>\n",
       "      <td>S</td>\n",
       "      <td>1</td>\n",
       "    </tr>\n",
       "    <tr>\n",
       "      <th>1</th>\n",
       "      <td>2</td>\n",
       "      <td>1</td>\n",
       "      <td>1</td>\n",
       "      <td>female</td>\n",
       "      <td>38.0</td>\n",
       "      <td>1</td>\n",
       "      <td>0</td>\n",
       "      <td>71.2833</td>\n",
       "      <td>C</td>\n",
       "      <td>4</td>\n",
       "    </tr>\n",
       "    <tr>\n",
       "      <th>2</th>\n",
       "      <td>3</td>\n",
       "      <td>1</td>\n",
       "      <td>3</td>\n",
       "      <td>female</td>\n",
       "      <td>26.0</td>\n",
       "      <td>0</td>\n",
       "      <td>0</td>\n",
       "      <td>7.9250</td>\n",
       "      <td>S</td>\n",
       "      <td>1</td>\n",
       "    </tr>\n",
       "    <tr>\n",
       "      <th>3</th>\n",
       "      <td>4</td>\n",
       "      <td>1</td>\n",
       "      <td>1</td>\n",
       "      <td>female</td>\n",
       "      <td>35.0</td>\n",
       "      <td>1</td>\n",
       "      <td>0</td>\n",
       "      <td>53.1000</td>\n",
       "      <td>S</td>\n",
       "      <td>4</td>\n",
       "    </tr>\n",
       "    <tr>\n",
       "      <th>4</th>\n",
       "      <td>5</td>\n",
       "      <td>0</td>\n",
       "      <td>3</td>\n",
       "      <td>male</td>\n",
       "      <td>35.0</td>\n",
       "      <td>0</td>\n",
       "      <td>0</td>\n",
       "      <td>8.0500</td>\n",
       "      <td>S</td>\n",
       "      <td>1</td>\n",
       "    </tr>\n",
       "  </tbody>\n",
       "</table>\n",
       "</div>"
      ],
      "text/plain": [
       "   PassengerId  Survived  Pclass     Sex   Age  SibSp  Parch     Fare  \\\n",
       "0            1         0       3    male  22.0      1      0   7.2500   \n",
       "1            2         1       1  female  38.0      1      0  71.2833   \n",
       "2            3         1       3  female  26.0      0      0   7.9250   \n",
       "3            4         1       1  female  35.0      1      0  53.1000   \n",
       "4            5         0       3    male  35.0      0      0   8.0500   \n",
       "\n",
       "  Embarked binned_fares  \n",
       "0        S            1  \n",
       "1        C            4  \n",
       "2        S            1  \n",
       "3        S            4  \n",
       "4        S            1  "
      ]
     },
     "execution_count": 8,
     "metadata": {},
     "output_type": "execute_result"
    }
   ],
   "source": [
    "train_set['binned_fares'] = binned_fares\n",
    "train_set.head(5)"
   ]
  },
  {
   "cell_type": "code",
   "execution_count": 9,
   "metadata": {},
   "outputs": [
    {
     "data": {
      "text/plain": [
       "<seaborn.axisgrid.FacetGrid at 0x10a8d3cd0>"
      ]
     },
     "execution_count": 9,
     "metadata": {},
     "output_type": "execute_result"
    },
    {
     "data": {
      "image/png": "[encoded data removed]",
      "text/plain": [
       "<Figure size 360x360 with 1 Axes>"
      ]
     },
     "metadata": {
      "needs_background": "light"
     },
     "output_type": "display_data"
    }
   ],
   "source": [
    "import seaborn as sns\n",
    "\n",
    "sns.catplot(x= 'binned_fares', y = 'Pclass', data = train_set, col_order =['1, 2, 3, 4, 5, 6, 7'])\n"
   ]
  },
  {
   "cell_type": "code",
   "execution_count": 10,
   "metadata": {},
   "outputs": [
    {
     "name": "stdout",
     "output_type": "stream",
     "text": [
      "<bound method NDFrame.head of 0        4\n",
      "1        5\n",
      "2        4\n",
      "3        5\n",
      "4        5\n",
      "      ... \n",
      "886      4\n",
      "887      3\n",
      "888    NaN\n",
      "889      4\n",
      "890      5\n",
      "Name: Age, Length: 891, dtype: category\n",
      "Categories (8, object): ['1' < '2' < '3' < '4' < '5' < '6' < '7' < '8']>\n",
      "['binned_ages']\n",
      "<class 'pandas.core.frame.DataFrame'>\n"
     ]
    }
   ],
   "source": [
    "#binned ages\n",
    "\n",
    "age_bins = [0, 4, 9, 19, 29, 39, 49, 59, 100]\n",
    "age_names = [\"1\", \"2\", \"3\", \"4\", \"5\", \"6\", \"7\", \"8\"]\n",
    "\n",
    "binned_ages = pd.cut(train_set['Age'], age_bins, labels = age_names)\n",
    "print(binned_ages.head)\n",
    "print(np.unique('binned_ages'))\n",
    "\n",
    "\n",
    "train_set['binned_ages'] = binned_ages\n",
    "train_set.head(5)\n",
    "print(type(train_set))"
   ]
  },
  {
   "cell_type": "code",
   "execution_count": 11,
   "metadata": {},
   "outputs": [
    {
     "name": "stdout",
     "output_type": "stream",
     "text": [
      "   PassengerId  Pclass     Sex   Age  SibSp  Parch     Fare Embarked  \\\n",
      "0          892       3    male  34.5      0      0   7.8292        Q   \n",
      "1          893       3  female  47.0      1      0   7.0000        S   \n",
      "2          894       2    male  62.0      0      0   9.6875        Q   \n",
      "3          895       3    male  27.0      0      0   8.6625        S   \n",
      "4          896       3  female  22.0      1      1  12.2875        S   \n",
      "\n",
      "  binned_fares binned_ages  \n",
      "0            1           5  \n",
      "1            1           6  \n",
      "2            2           8  \n",
      "3            1           4  \n",
      "4            2           4  \n"
     ]
    }
   ],
   "source": [
    "binned_ages_test = pd.cut(test_set['Age'], age_bins, labels = age_names)\n",
    "test_set['binned_ages'] = binned_ages_test\n",
    "print(test_set.head(5))"
   ]
  },
  {
   "cell_type": "code",
   "execution_count": 12,
   "metadata": {},
   "outputs": [
    {
     "name": "stdout",
     "output_type": "stream",
     "text": [
      "   PassengerId  Survived  Pclass   Age  SibSp  Parch     Fare  Sex_female  \\\n",
      "0            1         0       3  22.0      1      0   7.2500           0   \n",
      "1            2         1       1  38.0      1      0  71.2833           1   \n",
      "2            3         1       3  26.0      0      0   7.9250           1   \n",
      "3            4         1       1  35.0      1      0  53.1000           1   \n",
      "4            5         0       3  35.0      0      0   8.0500           0   \n",
      "\n",
      "   Sex_male  Embarked_C  ...  binned_fares_6  binned_fares_7  binned_ages_1  \\\n",
      "0         1           0  ...               0               0              0   \n",
      "1         0           1  ...               0               0              0   \n",
      "2         0           0  ...               0               0              0   \n",
      "3         0           0  ...               0               0              0   \n",
      "4         1           0  ...               0               0              0   \n",
      "\n",
      "   binned_ages_2  binned_ages_3  binned_ages_4  binned_ages_5  binned_ages_6  \\\n",
      "0              0              0              1              0              0   \n",
      "1              0              0              0              1              0   \n",
      "2              0              0              1              0              0   \n",
      "3              0              0              0              1              0   \n",
      "4              0              0              0              1              0   \n",
      "\n",
      "   binned_ages_7  binned_ages_8  \n",
      "0              0              0  \n",
      "1              0              0  \n",
      "2              0              0  \n",
      "3              0              0  \n",
      "4              0              0  \n",
      "\n",
      "[5 rows x 27 columns]\n",
      "   PassengerId  Pclass   Age  SibSp  Parch     Fare  Sex_female  Sex_male  \\\n",
      "0          892       3  34.5      0      0   7.8292           0         1   \n",
      "1          893       3  47.0      1      0   7.0000           1         0   \n",
      "2          894       2  62.0      0      0   9.6875           0         1   \n",
      "3          895       3  27.0      0      0   8.6625           0         1   \n",
      "4          896       3  22.0      1      1  12.2875           1         0   \n",
      "\n",
      "   Embarked_C  Embarked_Q  ...  binned_fares_6  binned_fares_7  binned_ages_1  \\\n",
      "0           0           1  ...               0               0              0   \n",
      "1           0           0  ...               0               0              0   \n",
      "2           0           1  ...               0               0              0   \n",
      "3           0           0  ...               0               0              0   \n",
      "4           0           0  ...               0               0              0   \n",
      "\n",
      "   binned_ages_2  binned_ages_3  binned_ages_4  binned_ages_5  binned_ages_6  \\\n",
      "0              0              0              0              1              0   \n",
      "1              0              0              0              0              1   \n",
      "2              0              0              0              0              0   \n",
      "3              0              0              1              0              0   \n",
      "4              0              0              1              0              0   \n",
      "\n",
      "   binned_ages_7  binned_ages_8  \n",
      "0              0              0  \n",
      "1              0              0  \n",
      "2              0              1  \n",
      "3              0              0  \n",
      "4              0              0  \n",
      "\n",
      "[5 rows x 26 columns]\n"
     ]
    }
   ],
   "source": [
    "import tensorflow as tf\n",
    "from keras.utils import to_categorical as to_categorical\n",
    "\n",
    "train_set_ohe= pd.get_dummies(train_set)\n",
    "test_set_ohe = pd.get_dummies(test_set)\n",
    "\n",
    "print(train_set_ohe.head(5))\n",
    "print(test_set_ohe.head(5))"
   ]
  },
  {
   "cell_type": "code",
   "execution_count": 13,
   "metadata": {},
   "outputs": [
    {
     "name": "stdout",
     "output_type": "stream",
     "text": [
      "<class 'pandas.core.frame.DataFrame'>\n",
      "(891, 27)\n",
      "(418, 26)\n"
     ]
    }
   ],
   "source": [
    "print(type(train_set_ohe))\n",
    "print(train_set_ohe.shape)\n",
    "print(test_set_ohe.shape)"
   ]
  },
  {
   "cell_type": "code",
   "execution_count": 14,
   "metadata": {},
   "outputs": [],
   "source": [
    "labels = np.array(train_set_ohe['Survived'])\n",
    "\n",
    "features = train_set_ohe.drop('Survived', axis = 1)\n",
    "features = np.array(features)\n"
   ]
  },
  {
   "cell_type": "code",
   "execution_count": 15,
   "metadata": {},
   "outputs": [],
   "source": [
    "import sklearn\n",
    "from sklearn.impute import SimpleImputer\n",
    "feature_imputer = SimpleImputer(strategy = 'mean')\n",
    "imputed_features = feature_imputer.fit_transform(features)"
   ]
  },
  {
   "cell_type": "code",
   "execution_count": 16,
   "metadata": {},
   "outputs": [],
   "source": [
    "test_imputer = SimpleImputer(strategy = 'mean')\n",
    "imputed_testing = test_imputer.fit_transform(test_set_ohe)\n"
   ]
  },
  {
   "cell_type": "code",
   "execution_count": 17,
   "metadata": {},
   "outputs": [],
   "source": [
    "test_pass_id = test_set['PassengerId']"
   ]
  },
  {
   "cell_type": "code",
   "execution_count": 18,
   "metadata": {},
   "outputs": [],
   "source": [
    "import sklearn\n",
    "from sklearn.model_selection import train_test_split\n",
    "\n",
    "\n",
    "train_features, valid_features, train_labels, valid_labels = sklearn.model_selection.train_test_split(imputed_features, labels, test_size = 0.2, random_state = 13 )\n"
   ]
  },
  {
   "cell_type": "code",
   "execution_count": 19,
   "metadata": {},
   "outputs": [
    {
     "name": "stdout",
     "output_type": "stream",
     "text": [
      "training features shape: (712, 26)\n",
      "training labels shape: (712,)\n",
      "validation features shape: (179, 26)\n",
      "validation labels shape: (179,)\n"
     ]
    }
   ],
   "source": [
    "print('training features shape:', train_features.shape)\n",
    "print('training labels shape:', train_labels.shape)\n",
    "print('validation features shape:', valid_features.shape)\n",
    "print('validation labels shape:', valid_labels.shape)"
   ]
  },
  {
   "cell_type": "code",
   "execution_count": 20,
   "metadata": {},
   "outputs": [
    {
     "data": {
      "text/plain": [
       "RandomForestClassifier(n_estimators=10000, random_state=3)"
      ]
     },
     "execution_count": 20,
     "metadata": {},
     "output_type": "execute_result"
    }
   ],
   "source": [
    "#training\n",
    "from sklearn.ensemble import RandomForestClassifier\n",
    "\n",
    "rfc = RandomForestClassifier(n_estimators = 10000, random_state = 3)\n",
    "\n",
    "rfc.fit(train_features, train_labels)\n"
   ]
  },
  {
   "cell_type": "code",
   "execution_count": 21,
   "metadata": {},
   "outputs": [
    {
     "name": "stdout",
     "output_type": "stream",
     "text": [
      "[0.84415584 0.81168831 0.81493506 0.80844156 0.9020979 ]\n"
     ]
    }
   ],
   "source": [
    "from sklearn.model_selection import cross_val_score\n",
    "cv_results = cross_val_score(rfc, valid_features, valid_labels, cv = 5, scoring = 'roc_auc')\n",
    "print(cv_results)\n"
   ]
  },
  {
   "cell_type": "code",
   "execution_count": 23,
   "metadata": {},
   "outputs": [],
   "source": [
    "survive_pred = rfc.predict(imputed_testing)"
   ]
  },
  {
   "cell_type": "code",
   "execution_count": 27,
   "metadata": {},
   "outputs": [
    {
     "name": "stdout",
     "output_type": "stream",
     "text": [
      "[0 0 0 1 0 0 0 0 1 0 0 0 1 0 1 1 0 1 0 0 1 1 1 1 1 0 1 1 1 0 0 0 0 0 1 0 0\n",
      " 0 0 0 0 0 0 1 1 0 1 1 1 0 1 0 1 1 0 0 0 0 0 1 0 0 0 1 1 1 1 0 1 1 1 0 0 1\n",
      " 1 1 0 1 0 1 1 0 0 0 0 0 1 0 1 1 0 0 1 0 1 0 1 0 0 0 1 0 1 0 1 0 1 1 0 0 0\n",
      " 1 1 0 1 0 0 1 1 1 1 0 1 0 1 1 0 1 0 0 0 1 0 0 0 0 0 0 0 0 0 1 0 0 1 0 0 0\n",
      " 0 0 1 0 0 0 0 0 1 0 1 0 1 1 1 0 0 0 1 0 1 0 0 0 0 0 0 1 1 1 1 1 0 1 1 1 1\n",
      " 0 1 0 0 0 0 0 0 0 1 0 1 0 0 0 1 1 0 1 0 1 0 0 1 0 0 0 0 1 0 0 1 0 1 0 1 0\n",
      " 1 0 1 0 0 1 0 0 0 1 0 0 1 0 1 1 1 1 1 1 0 0 0 1 1 0 1 0 1 0 0 0 0 0 1 0 1\n",
      " 0 0 0 1 1 0 0 0 0 0 0 1 1 1 1 0 1 0 0 0 0 0 1 1 0 1 0 0 0 0 0 0 0 0 0 0 0\n",
      " 1 0 0 0 0 0 0 0 1 1 1 1 0 0 0 1 0 0 1 1 0 0 0 0 0 0 0 1 1 0 1 0 0 0 1 1 0\n",
      " 0 0 0 0 0 0 0 0 0 0 1 0 0 0 0 0 1 1 0 0 0 1 0 1 0 1 1 0 1 1 1 1 0 0 0 1 1\n",
      " 0 1 0 0 1 1 0 0 0 0 1 0 0 0 0 1 0 0 1 0 0 1 0 0 0 1 0 1 0 0 1 0 1 0 1 1 0\n",
      " 0 1 1 1 1 0 0 1 0 0 0]\n",
      "<class 'numpy.ndarray'>\n"
     ]
    }
   ],
   "source": [
    "print(survive_pred)\n",
    "print(type(survive_pred))"
   ]
  },
  {
   "cell_type": "code",
   "execution_count": 29,
   "metadata": {},
   "outputs": [
    {
     "name": "stdout",
     "output_type": "stream",
     "text": [
      "<class 'pandas.core.series.Series'>\n",
      "<class 'numpy.ndarray'>\n"
     ]
    }
   ],
   "source": [
    "print(type(test_pass_id))\n",
    "test_pass_id_np = np.array(test_pass_id)\n",
    "print(type(test_pass_id_np))"
   ]
  },
  {
   "cell_type": "code",
   "execution_count": 31,
   "metadata": {},
   "outputs": [],
   "source": [
    "#concat arrays\n",
    "\n",
    "from numpy import reshape\n",
    "\n",
    "survive_pred_t = survive_pred.reshape(418, 1)\n",
    "test_pass_id_t = test_pass_id_np.reshape(418, 1)\n",
    "survive_pred_df = pd.DataFrame({'Survived': [survive_pred_t]})\n",
    "test_pass_id_df = pd.DataFrame({'PassengerId': [test_pass_id_t]})\n",
    "survive_pred_df\n",
    "submission_array = np.column_stack((test_pass_id_t, survive_pred_t))\n",
    "submission_df = pd.DataFrame(submission_array, columns = ['PassengerId', 'Survived'])\n",
    "submission_df\n",
    "submission_df.to_csv('submission_three.csv', index=False)"
   ]
  },
  {
   "cell_type": "code",
   "execution_count": null,
   "metadata": {},
   "outputs": [],
   "source": []
  }
 ],
 "metadata": {
  "kernelspec": {
   "display_name": "Python 3",
   "language": "python",
   "name": "python3"
  },
  "language_info": {
   "codemirror_mode": {
    "name": "ipython",
    "version": 3
   },
   "file_extension": ".py",
   "mimetype": "text/x-python",
   "name": "python",
   "nbconvert_exporter": "python",
   "pygments_lexer": "ipython3",
   "version": "3.7.8"
  }
 },
 "nbformat": 4,
 "nbformat_minor": 4
}
