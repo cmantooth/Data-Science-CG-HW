{
 "cells": [
  {
   "cell_type": "markdown",
   "metadata": {},
   "source": [
    "### Heroes Of Pymoli Data Analysis\n",
    "\n",
    "-----"
   ]
  },
  {
   "cell_type": "markdown",
   "metadata": {},
   "source": [
    "### Note\n",
    "* Instructions have been included for each segment. You do not have to follow them exactly, but they are included to help you think through the steps."
   ]
  },
  {
   "cell_type": "code",
   "execution_count": 698,
   "metadata": {},
   "outputs": [],
   "source": [
    "# Dependencies and Setup\n",
    "import pandas as pd\n",
    "import numpy as np\n",
    "\n",
    "\n",
    "# Read Purchasing File and store into Pandas data frame\n",
    "df = pd.read_csv('purchase_data.csv')\n",
    "\n",
    "# Convert each column to an np.array\n",
    "# purchaseid = df.PurchaseID.to_numpy()\n",
    "# sn = df.SN.to_numpy()\n",
    "# age = df.Age.to_numpy()\n",
    "# gender = df.Gender.to_numpy()\n",
    "# itemid = df.ItemID.to_numpy()\n",
    "# itemname = df.ItemName.to_numpy()\n",
    "# price = df.Price.to_numpy()\n",
    "\n",
    "#help(df)\n",
    "#print(df.columns)\n",
    "#print(df.head(4))\n"
   ]
  },
  {
   "cell_type": "markdown",
   "metadata": {},
   "source": [
    "## Player Count"
   ]
  },
  {
   "cell_type": "markdown",
   "metadata": {},
   "source": [
    "* Display the total number of players\n"
   ]
  },
  {
   "cell_type": "code",
   "execution_count": 697,
   "metadata": {},
   "outputs": [
    {
     "data": {
      "text/html": [
       "<div>\n",
       "<style scoped>\n",
       "    .dataframe tbody tr th:only-of-type {\n",
       "        vertical-align: middle;\n",
       "    }\n",
       "\n",
       "    .dataframe tbody tr th {\n",
       "        vertical-align: top;\n",
       "    }\n",
       "\n",
       "    .dataframe thead th {\n",
       "        text-align: right;\n",
       "    }\n",
       "</style>\n",
       "<table border=\"1\" class=\"dataframe\">\n",
       "  <thead>\n",
       "    <tr style=\"text-align: right;\">\n",
       "      <th></th>\n",
       "      <th>Number of Players</th>\n",
       "    </tr>\n",
       "  </thead>\n",
       "  <tbody>\n",
       "    <tr>\n",
       "      <th>0</th>\n",
       "      <td>576</td>\n",
       "    </tr>\n",
       "  </tbody>\n",
       "</table>\n",
       "</div>"
      ],
      "text/plain": [
       "   Number of Players\n",
       "0                576"
      ]
     },
     "execution_count": 697,
     "metadata": {},
     "output_type": "execute_result"
    }
   ],
   "source": [
    "#print(len(df.SN)) could swap df.index, or whatever other unique information desired\n",
    "#Number_Players = (len(df.SN))\n",
    "    #print (Number_Players)\n",
    "Number_Players = df['SN'].unique()\n",
    "#print(len(Number_Players))\n",
    "    \n",
    "Number_of_Players = [{\"Number of Players\": 576}]\n",
    "my_df_players = pd.DataFrame(Number_of_Players)\n",
    "my_df_players"
   ]
  },
  {
   "cell_type": "markdown",
   "metadata": {},
   "source": [
    "## Purchasing Analysis (Total)"
   ]
  },
  {
   "cell_type": "markdown",
   "metadata": {},
   "source": [
    "* Run basic calculations to obtain number of unique items, average price, etc.\n",
    "\n",
    "\n",
    "* Create a summary data frame to hold the results\n",
    "\n",
    "\n",
    "* Optional: give the displayed data cleaner formatting\n",
    "\n",
    "\n",
    "* Display the summary data frame\n"
   ]
  },
  {
   "cell_type": "code",
   "execution_count": 696,
   "metadata": {
    "scrolled": true
   },
   "outputs": [
    {
     "name": "stdout",
     "output_type": "stream",
     "text": [
      "\n"
     ]
    },
    {
     "data": {
      "text/html": [
       "<style  type=\"text/css\" >\n",
       "</style><table id=\"T_a2cefb90_f8a9_11ea_997d_88e9fe67d118\" ><thead>    <tr>        <th class=\"blank level0\" ></th>        <th class=\"col_heading level0 col0\" >Unique Items</th>        <th class=\"col_heading level0 col1\" >Average Price</th>        <th class=\"col_heading level0 col2\" >Total Purchases</th>        <th class=\"col_heading level0 col3\" >Total Revenue</th>    </tr></thead><tbody>\n",
       "                <tr>\n",
       "                        <th id=\"T_a2cefb90_f8a9_11ea_997d_88e9fe67d118level0_row0\" class=\"row_heading level0 row0\" >0</th>\n",
       "                        <td id=\"T_a2cefb90_f8a9_11ea_997d_88e9fe67d118row0_col0\" class=\"data row0 col0\" >183</td>\n",
       "                        <td id=\"T_a2cefb90_f8a9_11ea_997d_88e9fe67d118row0_col1\" class=\"data row0 col1\" >$3.05</td>\n",
       "                        <td id=\"T_a2cefb90_f8a9_11ea_997d_88e9fe67d118row0_col2\" class=\"data row0 col2\" >780</td>\n",
       "                        <td id=\"T_a2cefb90_f8a9_11ea_997d_88e9fe67d118row0_col3\" class=\"data row0 col3\" >$2,379.77</td>\n",
       "            </tr>\n",
       "    </tbody></table>"
      ],
      "text/plain": [
       "<pandas.io.formats.style.Styler at 0x11b432ad0>"
      ]
     },
     "execution_count": 696,
     "metadata": {},
     "output_type": "execute_result"
    }
   ],
   "source": [
    "#Number of Unique Items\n",
    "unique_items = df[\"Item ID\"].unique()\n",
    "#print(unique_items)\n",
    "(len(unique_items))\n",
    "#could run .nunique() instead\n",
    "\n",
    "#Average Price\n",
    "Average_price = df[\"Price\"].mean()\n",
    "Average_price\n",
    "\n",
    "#Number of Purchases\n",
    "number_of_purchases = (df[\"Purchase ID\"].value_counts())\n",
    "(len(number_of_purchases))\n",
    "\n",
    "#Total Revenue\n",
    "Total_Revenue = (df[\"Price\"].sum())\n",
    "Total_Revenue\n",
    "\n",
    "print()\n",
    "Purchasing_Analysis_Totals = [{\"Unique Items\": 183,\"Average Price\": 3.05,\"Total Purchases\": 780, \"Total Revenue\": 2379.77}]\n",
    "format_PA = {'Average Price': '${:,.2f}', \"Total Revenue\": '${:,.2f}'}\n",
    "PA_Totals= pd.DataFrame(Purchasing_Analysis_Totals)\n",
    "PA_Totals.style.format(format_PA)\n",
    "#Want to use one dictionary for ALL because the strings are your column headers but only one row. You would want to use seperate dictionaries if each should be it's own row."
   ]
  },
  {
   "cell_type": "markdown",
   "metadata": {},
   "source": [
    "## Gender Demographics"
   ]
  },
  {
   "cell_type": "code",
   "execution_count": null,
   "metadata": {},
   "outputs": [],
   "source": []
  },
  {
   "cell_type": "markdown",
   "metadata": {},
   "source": [
    "* Percentage and Count of Male Players\n",
    "\n",
    "\n",
    "* Percentage and Count of Female Players\n",
    "\n",
    "\n",
    "* Percentage and Count of Other / Non-Disclosed\n",
    "\n",
    "\n"
   ]
  },
  {
   "cell_type": "code",
   "execution_count": 694,
   "metadata": {},
   "outputs": [
    {
     "data": {
      "text/html": [
       "<style  type=\"text/css\" >\n",
       "</style><table id=\"T_53909110_f8a9_11ea_997d_88e9fe67d118\" ><thead>    <tr>        <th class=\"blank level0\" ></th>        <th class=\"col_heading level0 col0\" >Gender</th>        <th class=\"col_heading level0 col1\" >Number</th>        <th class=\"col_heading level0 col2\" >Percent</th>    </tr></thead><tbody>\n",
       "                <tr>\n",
       "                        <th id=\"T_53909110_f8a9_11ea_997d_88e9fe67d118level0_row0\" class=\"row_heading level0 row0\" >0</th>\n",
       "                        <td id=\"T_53909110_f8a9_11ea_997d_88e9fe67d118row0_col0\" class=\"data row0 col0\" >Male</td>\n",
       "                        <td id=\"T_53909110_f8a9_11ea_997d_88e9fe67d118row0_col1\" class=\"data row0 col1\" >484</td>\n",
       "                        <td id=\"T_53909110_f8a9_11ea_997d_88e9fe67d118row0_col2\" class=\"data row0 col2\" >84%</td>\n",
       "            </tr>\n",
       "            <tr>\n",
       "                        <th id=\"T_53909110_f8a9_11ea_997d_88e9fe67d118level0_row1\" class=\"row_heading level0 row1\" >1</th>\n",
       "                        <td id=\"T_53909110_f8a9_11ea_997d_88e9fe67d118row1_col0\" class=\"data row1 col0\" >Female</td>\n",
       "                        <td id=\"T_53909110_f8a9_11ea_997d_88e9fe67d118row1_col1\" class=\"data row1 col1\" >81</td>\n",
       "                        <td id=\"T_53909110_f8a9_11ea_997d_88e9fe67d118row1_col2\" class=\"data row1 col2\" >14%</td>\n",
       "            </tr>\n",
       "            <tr>\n",
       "                        <th id=\"T_53909110_f8a9_11ea_997d_88e9fe67d118level0_row2\" class=\"row_heading level0 row2\" >2</th>\n",
       "                        <td id=\"T_53909110_f8a9_11ea_997d_88e9fe67d118row2_col0\" class=\"data row2 col0\" >Other/Non-Disclosed</td>\n",
       "                        <td id=\"T_53909110_f8a9_11ea_997d_88e9fe67d118row2_col1\" class=\"data row2 col1\" >11</td>\n",
       "                        <td id=\"T_53909110_f8a9_11ea_997d_88e9fe67d118row2_col2\" class=\"data row2 col2\" >2%</td>\n",
       "            </tr>\n",
       "    </tbody></table>"
      ],
      "text/plain": [
       "<pandas.io.formats.style.Styler at 0x11b058690>"
      ]
     },
     "execution_count": 694,
     "metadata": {},
     "output_type": "execute_result"
    }
   ],
   "source": [
    "gamers = df[\"SN\"].unique()\n",
    "(len(gamers))\n",
    "\n",
    "gamer_gender = df.groupby([\"SN\"])[\"Gender\"].unique()\n",
    "#Grouping the dataframe by SN, then within each Gender sorting for unique SN\n",
    "gamer_gender_counter = gamer_gender.value_counts()\n",
    "gamer_gender_counter\n",
    "#printing value counts in each gender for unique SN\n",
    "\n",
    "#This was the first way I did it, this is not taking into account the SN duplicates!\n",
    "######\n",
    "#gamers_gender = (gamers[\"Gender\"].value_counts())\n",
    "#print(gamers_gender)\n",
    "#print()\n",
    "######\n",
    "\n",
    "(((gamer_gender_counter)/576)*100)\n",
    "\n",
    "Gender_Demographics = [{\"Gender\": \"Male\", \"Number\": 484, \"Percent\": 84.03},{\"Gender\": \"Female\", \"Number\": 81, \"Percent\":14.06},{\"Gender\": \"Other/Non-Disclosed\", \"Number\": 11, \"Percent\": 1.90}]\n",
    "format_gender = {'Percent':'{:,.0f}%'}\n",
    "Gender_Demographics = pd.DataFrame(Gender_Demographics)\n",
    "Gender_Demographics.style.format(format_gender)"
   ]
  },
  {
   "cell_type": "markdown",
   "metadata": {},
   "source": [
    "\n",
    "## Purchasing Analysis (Gender)"
   ]
  },
  {
   "cell_type": "markdown",
   "metadata": {},
   "source": [
    "* Run basic calculations to obtain purchase count, avg. purchase price, avg. purchase total per person etc. by gender\n",
    "\n",
    "\n",
    "\n",
    "\n",
    "* Create a summary data frame to hold the results\n",
    "\n",
    "\n",
    "* Optional: give the displayed data cleaner formatting\n",
    "\n",
    "\n",
    "* Display the summary data frame"
   ]
  },
  {
   "cell_type": "code",
   "execution_count": 684,
   "metadata": {},
   "outputs": [
    {
     "data": {
      "text/html": [
       "<style  type=\"text/css\" >\n",
       "</style><table id=\"T_a1381286_f8a8_11ea_997d_88e9fe67d118\" ><thead>    <tr>        <th class=\"blank level0\" ></th>        <th class=\"col_heading level0 col0\" >Total Purchase Count</th>        <th class=\"col_heading level0 col1\" >Total Purchase Value</th>        <th class=\"col_heading level0 col2\" >Average Purchase Price</th>        <th class=\"col_heading level0 col3\" >Average Per Person</th>    </tr>    <tr>        <th class=\"index_name level0\" >Gender</th>        <th class=\"blank\" ></th>        <th class=\"blank\" ></th>        <th class=\"blank\" ></th>        <th class=\"blank\" ></th>    </tr></thead><tbody>\n",
       "                <tr>\n",
       "                        <th id=\"T_a1381286_f8a8_11ea_997d_88e9fe67d118level0_row0\" class=\"row_heading level0 row0\" >Female</th>\n",
       "                        <td id=\"T_a1381286_f8a8_11ea_997d_88e9fe67d118row0_col0\" class=\"data row0 col0\" >113</td>\n",
       "                        <td id=\"T_a1381286_f8a8_11ea_997d_88e9fe67d118row0_col1\" class=\"data row0 col1\" >$361.94</td>\n",
       "                        <td id=\"T_a1381286_f8a8_11ea_997d_88e9fe67d118row0_col2\" class=\"data row0 col2\" >$3.20</td>\n",
       "                        <td id=\"T_a1381286_f8a8_11ea_997d_88e9fe67d118row0_col3\" class=\"data row0 col3\" >$4.34</td>\n",
       "            </tr>\n",
       "            <tr>\n",
       "                        <th id=\"T_a1381286_f8a8_11ea_997d_88e9fe67d118level0_row1\" class=\"row_heading level0 row1\" >Male</th>\n",
       "                        <td id=\"T_a1381286_f8a8_11ea_997d_88e9fe67d118row1_col0\" class=\"data row1 col0\" >652</td>\n",
       "                        <td id=\"T_a1381286_f8a8_11ea_997d_88e9fe67d118row1_col1\" class=\"data row1 col1\" >$1,967.64</td>\n",
       "                        <td id=\"T_a1381286_f8a8_11ea_997d_88e9fe67d118row1_col2\" class=\"data row1 col2\" >$3.02</td>\n",
       "                        <td id=\"T_a1381286_f8a8_11ea_997d_88e9fe67d118row1_col3\" class=\"data row1 col3\" >$4.09</td>\n",
       "            </tr>\n",
       "            <tr>\n",
       "                        <th id=\"T_a1381286_f8a8_11ea_997d_88e9fe67d118level0_row2\" class=\"row_heading level0 row2\" >Other / Non-Disclosed</th>\n",
       "                        <td id=\"T_a1381286_f8a8_11ea_997d_88e9fe67d118row2_col0\" class=\"data row2 col0\" >15</td>\n",
       "                        <td id=\"T_a1381286_f8a8_11ea_997d_88e9fe67d118row2_col1\" class=\"data row2 col1\" >$50.19</td>\n",
       "                        <td id=\"T_a1381286_f8a8_11ea_997d_88e9fe67d118row2_col2\" class=\"data row2 col2\" >$3.35</td>\n",
       "                        <td id=\"T_a1381286_f8a8_11ea_997d_88e9fe67d118row2_col3\" class=\"data row2 col3\" >$4.53</td>\n",
       "            </tr>\n",
       "    </tbody></table>"
      ],
      "text/plain": [
       "<pandas.io.formats.style.Styler at 0x11b43de90>"
      ]
     },
     "execution_count": 684,
     "metadata": {},
     "output_type": "execute_result"
    }
   ],
   "source": [
    "#Purchase Count\n",
    "#Average Purchase Price\n",
    "#Total Purchase Value\n",
    "#Avg Total Purchase per Person\n",
    "\n",
    "#all broken up by gender\n",
    "\n",
    "#Gender_df = df['Purchase ID'].count()\n",
    "#print(Gender_df)\n",
    "Gender_count = df.groupby('Gender')\n",
    "\n",
    "#Total purchase count\n",
    "Total_items_Gender = (Gender_count['Purchase ID'].count())\n",
    "\n",
    "#Total purchase value\n",
    "Total_purchase_Gender = (Gender_count['Price'].sum())\n",
    "\n",
    "#Average purchase price\n",
    "Avg_purchase_Gender = (Gender_count['Price'].mean())\n",
    "\n",
    "#gamer_gender = df.groupby([\"SN\"])[\"Gender\"].unique()\n",
    "#gamer_gender_counter = gamer_gender.value_counts()\n",
    "#print(gamer_gender_counter.shape)\n",
    "\n",
    "#Avg_per_person = ((Total_purchase_Gender)/(gamer_gender_counter))\n",
    "#print(Total_purchase_Gender.shape)\n",
    "\n",
    "#print(Total_purchase_Gender/gamer_gender_counter)\n",
    "\n",
    "Avg_per_person = ((Avg_purchase_Gender)*780)/576\n",
    "Avg_per_person\n",
    "\n",
    "#Purchase_Analysis_Gender = [{\"Gender\": \"Male\", \"Purchase Count\": 652, \"Total Purchase Value\": 1967.64, \"Avg Purchase Price\": 3.01, \"Avg Purchase Price per Person\": 4.09},{\"Gender\": \"Female\", \"Purchase Count\": 113, \"Total Purchase Value\": 361.94, \"Avg Purchase Price\": 3.20, \"Avg Purchase Price per Person\": 4.34},{\"Gender\": \"Other/Non-Disclosed\", \"Purchase Count\": 15, \"Total Purchase Value\": 50.19, \"Avg Purchase Price\": 3.35, \"Avg Purchase Price per Person\": 4.53}]\n",
    "Purchase_Analysis_Gender = {\"Total Purchase Count\": Total_items_Gender, \"Total Purchase Value\": Total_purchase_Gender, \"Average Purchase Price\": Avg_purchase_Gender, \"Average Per Person\": Avg_per_person}\n",
    "format_PA_Gender = {\"Total Purchase Value\": '${0:,.2f}', \"Average Purchase Price\":'${0:,.2f}', \"Average Per Person\": '${0:,.2f}'}\n",
    "PA_Gender = pd.DataFrame(Purchase_Analysis_Gender)\n",
    "PA_Gender.style.format(format_PA_Gender)\n"
   ]
  },
  {
   "cell_type": "markdown",
   "metadata": {},
   "source": [
    "## Age Demographics"
   ]
  },
  {
   "cell_type": "markdown",
   "metadata": {},
   "source": [
    "* Establish bins for ages\n",
    "\n",
    "\n",
    "* Categorize the existing players using the age bins. Hint: use pd.cut()\n",
    "\n",
    "\n",
    "* Calculate the numbers and percentages by age group\n",
    "\n",
    "\n",
    "* Create a summary data frame to hold the results\n",
    "\n",
    "\n",
    "* Optional: round the percentage column to two decimal points\n",
    "\n",
    "\n",
    "* Display Age Demographics Table\n"
   ]
  },
  {
   "cell_type": "code",
   "execution_count": 693,
   "metadata": {},
   "outputs": [
    {
     "name": "stderr",
     "output_type": "stream",
     "text": [
      "/Library/Frameworks/Python.framework/Versions/3.7/lib/python3.7/site-packages/ipykernel_launcher.py:12: SettingWithCopyWarning: \n",
      "A value is trying to be set on a copy of a slice from a DataFrame.\n",
      "Try using .loc[row_indexer,col_indexer] = value instead\n",
      "\n",
      "See the caveats in the documentation: https://pandas.pydata.org/pandas-docs/stable/user_guide/indexing.html#returning-a-view-versus-a-copy\n",
      "  if sys.path[0] == '':\n"
     ]
    },
    {
     "data": {
      "text/html": [
       "<style  type=\"text/css\" >\n",
       "</style><table id=\"T_499d4806_f8a9_11ea_997d_88e9fe67d118\" ><thead>    <tr>        <th class=\"blank level0\" ></th>        <th class=\"col_heading level0 col0\" >Age Group</th>        <th class=\"col_heading level0 col1\" >Number in Group</th>        <th class=\"col_heading level0 col2\" >Percent Total</th>    </tr></thead><tbody>\n",
       "                <tr>\n",
       "                        <th id=\"T_499d4806_f8a9_11ea_997d_88e9fe67d118level0_row0\" class=\"row_heading level0 row0\" >0</th>\n",
       "                        <td id=\"T_499d4806_f8a9_11ea_997d_88e9fe67d118row0_col0\" class=\"data row0 col0\" ><10</td>\n",
       "                        <td id=\"T_499d4806_f8a9_11ea_997d_88e9fe67d118row0_col1\" class=\"data row0 col1\" >17</td>\n",
       "                        <td id=\"T_499d4806_f8a9_11ea_997d_88e9fe67d118row0_col2\" class=\"data row0 col2\" >2.95%</td>\n",
       "            </tr>\n",
       "            <tr>\n",
       "                        <th id=\"T_499d4806_f8a9_11ea_997d_88e9fe67d118level0_row1\" class=\"row_heading level0 row1\" >1</th>\n",
       "                        <td id=\"T_499d4806_f8a9_11ea_997d_88e9fe67d118row1_col0\" class=\"data row1 col0\" >10-14</td>\n",
       "                        <td id=\"T_499d4806_f8a9_11ea_997d_88e9fe67d118row1_col1\" class=\"data row1 col1\" >22</td>\n",
       "                        <td id=\"T_499d4806_f8a9_11ea_997d_88e9fe67d118row1_col2\" class=\"data row1 col2\" >3.82%</td>\n",
       "            </tr>\n",
       "            <tr>\n",
       "                        <th id=\"T_499d4806_f8a9_11ea_997d_88e9fe67d118level0_row2\" class=\"row_heading level0 row2\" >2</th>\n",
       "                        <td id=\"T_499d4806_f8a9_11ea_997d_88e9fe67d118row2_col0\" class=\"data row2 col0\" >15-19</td>\n",
       "                        <td id=\"T_499d4806_f8a9_11ea_997d_88e9fe67d118row2_col1\" class=\"data row2 col1\" >22</td>\n",
       "                        <td id=\"T_499d4806_f8a9_11ea_997d_88e9fe67d118row2_col2\" class=\"data row2 col2\" >18.58%</td>\n",
       "            </tr>\n",
       "            <tr>\n",
       "                        <th id=\"T_499d4806_f8a9_11ea_997d_88e9fe67d118level0_row3\" class=\"row_heading level0 row3\" >3</th>\n",
       "                        <td id=\"T_499d4806_f8a9_11ea_997d_88e9fe67d118row3_col0\" class=\"data row3 col0\" >20-24</td>\n",
       "                        <td id=\"T_499d4806_f8a9_11ea_997d_88e9fe67d118row3_col1\" class=\"data row3 col1\" >258</td>\n",
       "                        <td id=\"T_499d4806_f8a9_11ea_997d_88e9fe67d118row3_col2\" class=\"data row3 col2\" >44.79%</td>\n",
       "            </tr>\n",
       "            <tr>\n",
       "                        <th id=\"T_499d4806_f8a9_11ea_997d_88e9fe67d118level0_row4\" class=\"row_heading level0 row4\" >4</th>\n",
       "                        <td id=\"T_499d4806_f8a9_11ea_997d_88e9fe67d118row4_col0\" class=\"data row4 col0\" >25-29</td>\n",
       "                        <td id=\"T_499d4806_f8a9_11ea_997d_88e9fe67d118row4_col1\" class=\"data row4 col1\" >77</td>\n",
       "                        <td id=\"T_499d4806_f8a9_11ea_997d_88e9fe67d118row4_col2\" class=\"data row4 col2\" >13.36%</td>\n",
       "            </tr>\n",
       "            <tr>\n",
       "                        <th id=\"T_499d4806_f8a9_11ea_997d_88e9fe67d118level0_row5\" class=\"row_heading level0 row5\" >5</th>\n",
       "                        <td id=\"T_499d4806_f8a9_11ea_997d_88e9fe67d118row5_col0\" class=\"data row5 col0\" >30-34</td>\n",
       "                        <td id=\"T_499d4806_f8a9_11ea_997d_88e9fe67d118row5_col1\" class=\"data row5 col1\" >52</td>\n",
       "                        <td id=\"T_499d4806_f8a9_11ea_997d_88e9fe67d118row5_col2\" class=\"data row5 col2\" >9.02%</td>\n",
       "            </tr>\n",
       "            <tr>\n",
       "                        <th id=\"T_499d4806_f8a9_11ea_997d_88e9fe67d118level0_row6\" class=\"row_heading level0 row6\" >6</th>\n",
       "                        <td id=\"T_499d4806_f8a9_11ea_997d_88e9fe67d118row6_col0\" class=\"data row6 col0\" >35-39</td>\n",
       "                        <td id=\"T_499d4806_f8a9_11ea_997d_88e9fe67d118row6_col1\" class=\"data row6 col1\" >31</td>\n",
       "                        <td id=\"T_499d4806_f8a9_11ea_997d_88e9fe67d118row6_col2\" class=\"data row6 col2\" >5.38%</td>\n",
       "            </tr>\n",
       "            <tr>\n",
       "                        <th id=\"T_499d4806_f8a9_11ea_997d_88e9fe67d118level0_row7\" class=\"row_heading level0 row7\" >7</th>\n",
       "                        <td id=\"T_499d4806_f8a9_11ea_997d_88e9fe67d118row7_col0\" class=\"data row7 col0\" >40+</td>\n",
       "                        <td id=\"T_499d4806_f8a9_11ea_997d_88e9fe67d118row7_col1\" class=\"data row7 col1\" >12</td>\n",
       "                        <td id=\"T_499d4806_f8a9_11ea_997d_88e9fe67d118row7_col2\" class=\"data row7 col2\" >2.08%</td>\n",
       "            </tr>\n",
       "    </tbody></table>"
      ],
      "text/plain": [
       "<pandas.io.formats.style.Styler at 0x11b3a5150>"
      ]
     },
     "execution_count": 693,
     "metadata": {},
     "output_type": "execute_result"
    }
   ],
   "source": [
    "# df[\"Age\"].max()\n",
    "# df[\"Age\"].min()\n",
    "df_age_copy = df.copy()\n",
    "df_age = df_age_copy.drop_duplicates([\"SN\"], keep=\"first\")\n",
    "####DROP DUPLICATES!!!#####\n",
    "\n",
    "age_bins = [0, 9, 14, 19, 24, 29, 34, 39, 49]\n",
    "age_labels = [\"<10\", \"10-14\", \"15-19\", \"20-24\", \"25-29\", \"30-34\", \"35-39\", \"40+\"]\n",
    "\n",
    "pd.cut(df_age[\"Age\"], age_bins, labels = age_labels)\n",
    "\n",
    "df_age[\"Age Group\"] = pd.cut(df[\"Age\"], age_bins, labels = age_labels)\n",
    "#df.head(4)\n",
    "\n",
    "age_groups_df = df_age.groupby(\"Age Group\")\n",
    "\n",
    "age_group_totals = age_groups_df[\"Age Group\"].value_counts()\n",
    "age_group_percents = ((((age_group_totals)/576)*100))\n",
    "\n",
    "\n",
    "# print(age_group_totals)\n",
    "# print()\n",
    "#print(age_group_percents)\n",
    "# print()\n",
    "# print()\n",
    "Age_Group_Summary = [{\"Age Group\": \"<10\", \"Number in Group\": 17, \"Percent Total\": 2.95},{\"Age Group\": \"10-14\", \"Number in Group\": 22, \"Percent Total\": 3.82}, {\"Age Group\": \"15-19\", \"Number in Group\": 22, \"Percent Total\": 18.58}, {\"Age Group\": \"20-24\", \"Number in Group\": 258, \"Percent Total\": 44.79},{\"Age Group\": \"25-29\", \"Number in Group\": 77, \"Percent Total\": 13.36}, {\"Age Group\": \"30-34\", \"Number in Group\": 52, \"Percent Total\": 9.02}, {\"Age Group\": \"35-39\", \"Number in Group\": 31, \"Percent Total\": 5.38}, {\"Age Group\": \"40+\", \"Number in Group\": 12, \"Percent Total\": 2.08}]\n",
    "# Age_Group_Summary = {'Age Group Totals' : age_group_totals_series, 'Age Group Percents' : age_group_percents_series}\n",
    "format_age = {\"Percent Total\": '{:0,.2f}%'}\n",
    "Age_summary = pd.DataFrame(Age_Group_Summary)\n",
    "Age_summary.style.format(format_age)\n",
    "# age_group_totals\n",
    "\n",
    "##Why will the dictionary not work using the series names? they are all Pandas.core.Series.series, same as other problems###\n",
    "##Play with pd.concat() here: https://pandas.pydata.org/pandas-docs/stable/reference/api/pandas.concat.html"
   ]
  },
  {
   "cell_type": "code",
   "execution_count": null,
   "metadata": {},
   "outputs": [],
   "source": []
  },
  {
   "cell_type": "markdown",
   "metadata": {},
   "source": [
    "## Purchasing Analysis (Age)"
   ]
  },
  {
   "cell_type": "code",
   "execution_count": null,
   "metadata": {},
   "outputs": [],
   "source": []
  },
  {
   "cell_type": "markdown",
   "metadata": {},
   "source": [
    "* Bin the purchase_data data frame by age\n",
    "\n",
    "\n",
    "* Run basic calculations to obtain purchase count, avg. purchase price, avg. purchase total per person etc. in the table below\n",
    "\n",
    "\n",
    "* Create a summary data frame to hold the results\n",
    "\n",
    "\n",
    "* Optional: give the displayed data cleaner formatting\n",
    "\n",
    "\n",
    "* Display the summary data frame"
   ]
  },
  {
   "cell_type": "code",
   "execution_count": 642,
   "metadata": {},
   "outputs": [
    {
     "data": {
      "text/html": [
       "<style  type=\"text/css\" >\n",
       "</style><table id=\"T_75cb397a_f8a3_11ea_997d_88e9fe67d118\" ><thead>    <tr>        <th class=\"blank level0\" ></th>        <th class=\"col_heading level0 col0\" >Purchase ID</th>        <th class=\"col_heading level0 col1\" >Average Price</th>        <th class=\"col_heading level0 col2\" >Price Total</th>        <th class=\"col_heading level0 col3\" >Average Price Per Person</th>    </tr>    <tr>        <th class=\"index_name level0\" >Age Group</th>        <th class=\"blank\" ></th>        <th class=\"blank\" ></th>        <th class=\"blank\" ></th>        <th class=\"blank\" ></th>    </tr></thead><tbody>\n",
       "                <tr>\n",
       "                        <th id=\"T_75cb397a_f8a3_11ea_997d_88e9fe67d118level0_row0\" class=\"row_heading level0 row0\" ><10</th>\n",
       "                        <td id=\"T_75cb397a_f8a3_11ea_997d_88e9fe67d118row0_col0\" class=\"data row0 col0\" >23</td>\n",
       "                        <td id=\"T_75cb397a_f8a3_11ea_997d_88e9fe67d118row0_col1\" class=\"data row0 col1\" >$3.35</td>\n",
       "                        <td id=\"T_75cb397a_f8a3_11ea_997d_88e9fe67d118row0_col2\" class=\"data row0 col2\" >$77.13</td>\n",
       "                        <td id=\"T_75cb397a_f8a3_11ea_997d_88e9fe67d118row0_col3\" class=\"data row0 col3\" >$3.39</td>\n",
       "            </tr>\n",
       "            <tr>\n",
       "                        <th id=\"T_75cb397a_f8a3_11ea_997d_88e9fe67d118level0_row1\" class=\"row_heading level0 row1\" >10-14</th>\n",
       "                        <td id=\"T_75cb397a_f8a3_11ea_997d_88e9fe67d118row1_col0\" class=\"data row1 col0\" >28</td>\n",
       "                        <td id=\"T_75cb397a_f8a3_11ea_997d_88e9fe67d118row1_col1\" class=\"data row1 col1\" >$2.96</td>\n",
       "                        <td id=\"T_75cb397a_f8a3_11ea_997d_88e9fe67d118row1_col2\" class=\"data row1 col2\" >$82.78</td>\n",
       "                        <td id=\"T_75cb397a_f8a3_11ea_997d_88e9fe67d118row1_col3\" class=\"data row1 col3\" >$3.07</td>\n",
       "            </tr>\n",
       "            <tr>\n",
       "                        <th id=\"T_75cb397a_f8a3_11ea_997d_88e9fe67d118level0_row2\" class=\"row_heading level0 row2\" >15-19</th>\n",
       "                        <td id=\"T_75cb397a_f8a3_11ea_997d_88e9fe67d118row2_col0\" class=\"data row2 col0\" >136</td>\n",
       "                        <td id=\"T_75cb397a_f8a3_11ea_997d_88e9fe67d118row2_col1\" class=\"data row2 col1\" >$3.04</td>\n",
       "                        <td id=\"T_75cb397a_f8a3_11ea_997d_88e9fe67d118row2_col2\" class=\"data row2 col2\" >$412.89</td>\n",
       "                        <td id=\"T_75cb397a_f8a3_11ea_997d_88e9fe67d118row2_col3\" class=\"data row2 col3\" >$3.10</td>\n",
       "            </tr>\n",
       "            <tr>\n",
       "                        <th id=\"T_75cb397a_f8a3_11ea_997d_88e9fe67d118level0_row3\" class=\"row_heading level0 row3\" >20-24</th>\n",
       "                        <td id=\"T_75cb397a_f8a3_11ea_997d_88e9fe67d118row3_col0\" class=\"data row3 col0\" >365</td>\n",
       "                        <td id=\"T_75cb397a_f8a3_11ea_997d_88e9fe67d118row3_col1\" class=\"data row3 col1\" >$3.05</td>\n",
       "                        <td id=\"T_75cb397a_f8a3_11ea_997d_88e9fe67d118row3_col2\" class=\"data row3 col2\" >$1,114.06</td>\n",
       "                        <td id=\"T_75cb397a_f8a3_11ea_997d_88e9fe67d118row3_col3\" class=\"data row3 col3\" >$3.06</td>\n",
       "            </tr>\n",
       "            <tr>\n",
       "                        <th id=\"T_75cb397a_f8a3_11ea_997d_88e9fe67d118level0_row4\" class=\"row_heading level0 row4\" >25-29</th>\n",
       "                        <td id=\"T_75cb397a_f8a3_11ea_997d_88e9fe67d118row4_col0\" class=\"data row4 col0\" >101</td>\n",
       "                        <td id=\"T_75cb397a_f8a3_11ea_997d_88e9fe67d118row4_col1\" class=\"data row4 col1\" >$2.90</td>\n",
       "                        <td id=\"T_75cb397a_f8a3_11ea_997d_88e9fe67d118row4_col2\" class=\"data row4 col2\" >$293.00</td>\n",
       "                        <td id=\"T_75cb397a_f8a3_11ea_997d_88e9fe67d118row4_col3\" class=\"data row4 col3\" >$2.91</td>\n",
       "            </tr>\n",
       "            <tr>\n",
       "                        <th id=\"T_75cb397a_f8a3_11ea_997d_88e9fe67d118level0_row5\" class=\"row_heading level0 row5\" >30-34</th>\n",
       "                        <td id=\"T_75cb397a_f8a3_11ea_997d_88e9fe67d118row5_col0\" class=\"data row5 col0\" >73</td>\n",
       "                        <td id=\"T_75cb397a_f8a3_11ea_997d_88e9fe67d118row5_col1\" class=\"data row5 col1\" >$2.93</td>\n",
       "                        <td id=\"T_75cb397a_f8a3_11ea_997d_88e9fe67d118row5_col2\" class=\"data row5 col2\" >$214.00</td>\n",
       "                        <td id=\"T_75cb397a_f8a3_11ea_997d_88e9fe67d118row5_col3\" class=\"data row5 col3\" >$2.92</td>\n",
       "            </tr>\n",
       "            <tr>\n",
       "                        <th id=\"T_75cb397a_f8a3_11ea_997d_88e9fe67d118level0_row6\" class=\"row_heading level0 row6\" >35-39</th>\n",
       "                        <td id=\"T_75cb397a_f8a3_11ea_997d_88e9fe67d118row6_col0\" class=\"data row6 col0\" >41</td>\n",
       "                        <td id=\"T_75cb397a_f8a3_11ea_997d_88e9fe67d118row6_col1\" class=\"data row6 col1\" >$3.60</td>\n",
       "                        <td id=\"T_75cb397a_f8a3_11ea_997d_88e9fe67d118row6_col2\" class=\"data row6 col2\" >$147.67</td>\n",
       "                        <td id=\"T_75cb397a_f8a3_11ea_997d_88e9fe67d118row6_col3\" class=\"data row6 col3\" >$3.51</td>\n",
       "            </tr>\n",
       "            <tr>\n",
       "                        <th id=\"T_75cb397a_f8a3_11ea_997d_88e9fe67d118level0_row7\" class=\"row_heading level0 row7\" >40+</th>\n",
       "                        <td id=\"T_75cb397a_f8a3_11ea_997d_88e9fe67d118row7_col0\" class=\"data row7 col0\" >13</td>\n",
       "                        <td id=\"T_75cb397a_f8a3_11ea_997d_88e9fe67d118row7_col1\" class=\"data row7 col1\" >$2.94</td>\n",
       "                        <td id=\"T_75cb397a_f8a3_11ea_997d_88e9fe67d118row7_col2\" class=\"data row7 col2\" >$38.24</td>\n",
       "                        <td id=\"T_75cb397a_f8a3_11ea_997d_88e9fe67d118row7_col3\" class=\"data row7 col3\" >$3.04</td>\n",
       "            </tr>\n",
       "    </tbody></table>"
      ],
      "text/plain": [
       "<pandas.io.formats.style.Styler at 0x1197b0b90>"
      ]
     },
     "execution_count": 642,
     "metadata": {},
     "output_type": "execute_result"
    }
   ],
   "source": [
    "#Purchase Count\n",
    "#Average Purchase Price\n",
    "#Total Purchase Value\n",
    "#Avg Total Purchase per Person\n",
    "#By Age bin\n",
    "\n",
    "\n",
    "PA_Age_bin = [0, 9, 14, 19, 24, 29, 34, 39, 49]\n",
    "PA_Age_labels = [\"<10\", \"10-14\", \"15-19\", \"20-24\", \"25-29\", \"30-34\", \"35-39\", \"40+\"]\n",
    "pd.cut(df[\"Age\"],PA_Age_bin, labels = PA_Age_labels)\n",
    "df[\"Age Group\"] = pd.cut(df[\"Age\"],PA_Age_bin, labels = PA_Age_labels)\n",
    "#df.head(10)\n",
    "\n",
    "grouped_purchases_df = df.groupby(\"Age Group\")\n",
    "Purchase_ID_Age = grouped_purchases_df[\"Purchase ID\"].count()\n",
    "Price_Avg_Age = round(grouped_purchases_df[\"Price\"].mean(),2)\n",
    "Price_Total_Age = grouped_purchases_df[\"Price\"].sum()\n",
    "Price_Avg_PP_Age = age_groups_df[\"Price\"].mean()\n",
    "\n",
    "# print(Purchase_ID_Age)\n",
    "# print()\n",
    "# print(Price_Avg_Age)\n",
    "# print()\n",
    "# print(Price_Total_Age)\n",
    "# print()\n",
    "# print(Price_Avg_PP_Age)\n",
    "\n",
    "Purchasing_analysis_age = {\"Purchase ID\": Purchase_ID_Age, \"Average Price\": Price_Avg_Age, \"Price Total\": Price_Total_Age, \"Average Price Per Person\": Price_Avg_PP_Age}\n",
    "format_dict = {'Average Price':'${0:,.2f}', 'Price Total':'${0:,.2f}', 'Average Price Per Person': '${0:,.2f}'}\n",
    "PA_Age_df = pd.DataFrame(Purchasing_analysis_age)\n",
    "PA_Age_df.style.format(format_dict)"
   ]
  },
  {
   "cell_type": "code",
   "execution_count": null,
   "metadata": {},
   "outputs": [],
   "source": []
  },
  {
   "cell_type": "markdown",
   "metadata": {},
   "source": [
    "## Top Spenders"
   ]
  },
  {
   "cell_type": "markdown",
   "metadata": {},
   "source": [
    "* Run basic calculations to obtain the results in the table below\n",
    "\n",
    "\n",
    "* Create a summary data frame to hold the results\n",
    "\n",
    "\n",
    "* Sort the total purchase value column in descending order\n",
    "\n",
    "\n",
    "* Optional: give the displayed data cleaner formatting\n",
    "\n",
    "\n",
    "* Display a preview of the summary data frame\n",
    "\n"
   ]
  },
  {
   "cell_type": "code",
   "execution_count": 652,
   "metadata": {},
   "outputs": [
    {
     "data": {
      "text/html": [
       "<style  type=\"text/css\" >\n",
       "</style><table id=\"T_b1bfedee_f8a4_11ea_997d_88e9fe67d118\" ><thead>    <tr>        <th class=\"blank level0\" ></th>        <th class=\"col_heading level0 col0\" >Purchases</th>        <th class=\"col_heading level0 col1\" >Average Purchase Price</th>        <th class=\"col_heading level0 col2\" >Total Purchase Value</th>    </tr>    <tr>        <th class=\"index_name level0\" >SN</th>        <th class=\"blank\" ></th>        <th class=\"blank\" ></th>        <th class=\"blank\" ></th>    </tr></thead><tbody>\n",
       "                <tr>\n",
       "                        <th id=\"T_b1bfedee_f8a4_11ea_997d_88e9fe67d118level0_row0\" class=\"row_heading level0 row0\" >Lisosia93</th>\n",
       "                        <td id=\"T_b1bfedee_f8a4_11ea_997d_88e9fe67d118row0_col0\" class=\"data row0 col0\" >5</td>\n",
       "                        <td id=\"T_b1bfedee_f8a4_11ea_997d_88e9fe67d118row0_col1\" class=\"data row0 col1\" >$3.79</td>\n",
       "                        <td id=\"T_b1bfedee_f8a4_11ea_997d_88e9fe67d118row0_col2\" class=\"data row0 col2\" >$18.96</td>\n",
       "            </tr>\n",
       "            <tr>\n",
       "                        <th id=\"T_b1bfedee_f8a4_11ea_997d_88e9fe67d118level0_row1\" class=\"row_heading level0 row1\" >Idastidru52</th>\n",
       "                        <td id=\"T_b1bfedee_f8a4_11ea_997d_88e9fe67d118row1_col0\" class=\"data row1 col0\" >4</td>\n",
       "                        <td id=\"T_b1bfedee_f8a4_11ea_997d_88e9fe67d118row1_col1\" class=\"data row1 col1\" >$3.86</td>\n",
       "                        <td id=\"T_b1bfedee_f8a4_11ea_997d_88e9fe67d118row1_col2\" class=\"data row1 col2\" >$15.45</td>\n",
       "            </tr>\n",
       "            <tr>\n",
       "                        <th id=\"T_b1bfedee_f8a4_11ea_997d_88e9fe67d118level0_row2\" class=\"row_heading level0 row2\" >Chamjask73</th>\n",
       "                        <td id=\"T_b1bfedee_f8a4_11ea_997d_88e9fe67d118row2_col0\" class=\"data row2 col0\" >3</td>\n",
       "                        <td id=\"T_b1bfedee_f8a4_11ea_997d_88e9fe67d118row2_col1\" class=\"data row2 col1\" >$4.61</td>\n",
       "                        <td id=\"T_b1bfedee_f8a4_11ea_997d_88e9fe67d118row2_col2\" class=\"data row2 col2\" >$13.83</td>\n",
       "            </tr>\n",
       "            <tr>\n",
       "                        <th id=\"T_b1bfedee_f8a4_11ea_997d_88e9fe67d118level0_row3\" class=\"row_heading level0 row3\" >Iral74</th>\n",
       "                        <td id=\"T_b1bfedee_f8a4_11ea_997d_88e9fe67d118row3_col0\" class=\"data row3 col0\" >4</td>\n",
       "                        <td id=\"T_b1bfedee_f8a4_11ea_997d_88e9fe67d118row3_col1\" class=\"data row3 col1\" >$3.40</td>\n",
       "                        <td id=\"T_b1bfedee_f8a4_11ea_997d_88e9fe67d118row3_col2\" class=\"data row3 col2\" >$13.62</td>\n",
       "            </tr>\n",
       "            <tr>\n",
       "                        <th id=\"T_b1bfedee_f8a4_11ea_997d_88e9fe67d118level0_row4\" class=\"row_heading level0 row4\" >Iskadarya95</th>\n",
       "                        <td id=\"T_b1bfedee_f8a4_11ea_997d_88e9fe67d118row4_col0\" class=\"data row4 col0\" >3</td>\n",
       "                        <td id=\"T_b1bfedee_f8a4_11ea_997d_88e9fe67d118row4_col1\" class=\"data row4 col1\" >$4.37</td>\n",
       "                        <td id=\"T_b1bfedee_f8a4_11ea_997d_88e9fe67d118row4_col2\" class=\"data row4 col2\" >$13.10</td>\n",
       "            </tr>\n",
       "            <tr>\n",
       "                        <th id=\"T_b1bfedee_f8a4_11ea_997d_88e9fe67d118level0_row5\" class=\"row_heading level0 row5\" >Ilarin91</th>\n",
       "                        <td id=\"T_b1bfedee_f8a4_11ea_997d_88e9fe67d118row5_col0\" class=\"data row5 col0\" >3</td>\n",
       "                        <td id=\"T_b1bfedee_f8a4_11ea_997d_88e9fe67d118row5_col1\" class=\"data row5 col1\" >$4.23</td>\n",
       "                        <td id=\"T_b1bfedee_f8a4_11ea_997d_88e9fe67d118row5_col2\" class=\"data row5 col2\" >$12.70</td>\n",
       "            </tr>\n",
       "            <tr>\n",
       "                        <th id=\"T_b1bfedee_f8a4_11ea_997d_88e9fe67d118level0_row6\" class=\"row_heading level0 row6\" >Ialallo29</th>\n",
       "                        <td id=\"T_b1bfedee_f8a4_11ea_997d_88e9fe67d118row6_col0\" class=\"data row6 col0\" >3</td>\n",
       "                        <td id=\"T_b1bfedee_f8a4_11ea_997d_88e9fe67d118row6_col1\" class=\"data row6 col1\" >$3.95</td>\n",
       "                        <td id=\"T_b1bfedee_f8a4_11ea_997d_88e9fe67d118row6_col2\" class=\"data row6 col2\" >$11.84</td>\n",
       "            </tr>\n",
       "            <tr>\n",
       "                        <th id=\"T_b1bfedee_f8a4_11ea_997d_88e9fe67d118level0_row7\" class=\"row_heading level0 row7\" >Tyidaim51</th>\n",
       "                        <td id=\"T_b1bfedee_f8a4_11ea_997d_88e9fe67d118row7_col0\" class=\"data row7 col0\" >3</td>\n",
       "                        <td id=\"T_b1bfedee_f8a4_11ea_997d_88e9fe67d118row7_col1\" class=\"data row7 col1\" >$3.94</td>\n",
       "                        <td id=\"T_b1bfedee_f8a4_11ea_997d_88e9fe67d118row7_col2\" class=\"data row7 col2\" >$11.83</td>\n",
       "            </tr>\n",
       "            <tr>\n",
       "                        <th id=\"T_b1bfedee_f8a4_11ea_997d_88e9fe67d118level0_row8\" class=\"row_heading level0 row8\" >Lassilsala30</th>\n",
       "                        <td id=\"T_b1bfedee_f8a4_11ea_997d_88e9fe67d118row8_col0\" class=\"data row8 col0\" >3</td>\n",
       "                        <td id=\"T_b1bfedee_f8a4_11ea_997d_88e9fe67d118row8_col1\" class=\"data row8 col1\" >$3.84</td>\n",
       "                        <td id=\"T_b1bfedee_f8a4_11ea_997d_88e9fe67d118row8_col2\" class=\"data row8 col2\" >$11.51</td>\n",
       "            </tr>\n",
       "            <tr>\n",
       "                        <th id=\"T_b1bfedee_f8a4_11ea_997d_88e9fe67d118level0_row9\" class=\"row_heading level0 row9\" >Chadolyla44</th>\n",
       "                        <td id=\"T_b1bfedee_f8a4_11ea_997d_88e9fe67d118row9_col0\" class=\"data row9 col0\" >3</td>\n",
       "                        <td id=\"T_b1bfedee_f8a4_11ea_997d_88e9fe67d118row9_col1\" class=\"data row9 col1\" >$3.82</td>\n",
       "                        <td id=\"T_b1bfedee_f8a4_11ea_997d_88e9fe67d118row9_col2\" class=\"data row9 col2\" >$11.46</td>\n",
       "            </tr>\n",
       "    </tbody></table>"
      ],
      "text/plain": [
       "<pandas.io.formats.style.Styler at 0x119ec9dd0>"
      ]
     },
     "execution_count": 652,
     "metadata": {},
     "output_type": "execute_result"
    }
   ],
   "source": [
    "#Purchase Count\n",
    "#Average Purchase Price\n",
    "#Total Purchase Value\n",
    "#By SN\n",
    "\n",
    "grouped_SN_df = df.groupby(\"SN\")\n",
    "Purchases_SN = grouped_SN_df[\"Purchase ID\"].count()\n",
    "Purchases_SN\n",
    "Purchase_SN_series = pd.Series(Purchases_SN)\n",
    "\n",
    "Avg_PP = grouped_SN_df[\"Price\"].mean()\n",
    "Avg_PP\n",
    "Avg_PP_series = pd.Series(Avg_PP)\n",
    "\n",
    "\n",
    "Total_Value = grouped_SN_df[\"Price\"].sum()\n",
    "Total_Value\n",
    "Total_Value_series = pd.Series(Total_Value)\n",
    "\n",
    "frame = {'Purchases' : Purchase_SN_series, 'Average Purchase Price' : Avg_PP_series, 'Total Purchase Value' : Total_Value_series}\n",
    "format_frame = {'Average Purchase Price': '${0:,.2f}', 'Total Purchase Value' : '${0:,.2f}'}\n",
    "Summary_frame = pd.DataFrame(frame)\n",
    "\n",
    "\n",
    "Summary_frame.sort_values('Total Purchase Value', ascending = False).head(10).style.format(format_frame)\n",
    "# New_Df = pd.concat([Purchases_SN, Avg_PP, Total_Value], axis = 1)\n",
    "# Would work for one column\n",
    "##STYLER ALWAYS GOES AT THE END OF WHAT YOU WANT TO DO###"
   ]
  },
  {
   "cell_type": "markdown",
   "metadata": {},
   "source": [
    "## Most Popular Items"
   ]
  },
  {
   "cell_type": "markdown",
   "metadata": {},
   "source": [
    "* Retrieve the Item ID, Item Name, and Item Price columns\n",
    "\n",
    "\n",
    "* Group by Item ID and Item Name. Perform calculations to obtain purchase count, item price, and total purchase value\n",
    "\n",
    "\n",
    "* Create a summary data frame to hold the results\n",
    "\n",
    "\n",
    "* Sort the purchase count column in descending order\n",
    "\n",
    "\n",
    "* Optional: give the displayed data cleaner formatting\n",
    "\n",
    "\n",
    "* Display a preview of the summary data frame\n",
    "\n"
   ]
  },
  {
   "cell_type": "code",
   "execution_count": 657,
   "metadata": {},
   "outputs": [
    {
     "data": {
      "text/html": [
       "<style  type=\"text/css\" >\n",
       "</style><table id=\"T_271efd00_f8a5_11ea_997d_88e9fe67d118\" ><thead>    <tr>        <th class=\"blank\" ></th>        <th class=\"blank level0\" ></th>        <th class=\"col_heading level0 col0\" >Purchase Count</th>        <th class=\"col_heading level0 col1\" >Item Price</th>        <th class=\"col_heading level0 col2\" >Total Purchase Value</th>    </tr>    <tr>        <th class=\"index_name level0\" >Item Name</th>        <th class=\"index_name level1\" >Item ID</th>        <th class=\"blank\" ></th>        <th class=\"blank\" ></th>        <th class=\"blank\" ></th>    </tr></thead><tbody>\n",
       "                <tr>\n",
       "                        <th id=\"T_271efd00_f8a5_11ea_997d_88e9fe67d118level0_row0\" class=\"row_heading level0 row0\" >Oathbreaker, Last Hope of the Breaking Storm</th>\n",
       "                        <th id=\"T_271efd00_f8a5_11ea_997d_88e9fe67d118level1_row0\" class=\"row_heading level1 row0\" >178</th>\n",
       "                        <td id=\"T_271efd00_f8a5_11ea_997d_88e9fe67d118row0_col0\" class=\"data row0 col0\" >12</td>\n",
       "                        <td id=\"T_271efd00_f8a5_11ea_997d_88e9fe67d118row0_col1\" class=\"data row0 col1\" >$4.23</td>\n",
       "                        <td id=\"T_271efd00_f8a5_11ea_997d_88e9fe67d118row0_col2\" class=\"data row0 col2\" >$50.76</td>\n",
       "            </tr>\n",
       "            <tr>\n",
       "                        <th id=\"T_271efd00_f8a5_11ea_997d_88e9fe67d118level0_row1\" class=\"row_heading level0 row1\" >Extraction, Quickblade Of Trembling Hands</th>\n",
       "                        <th id=\"T_271efd00_f8a5_11ea_997d_88e9fe67d118level1_row1\" class=\"row_heading level1 row1\" >108</th>\n",
       "                        <td id=\"T_271efd00_f8a5_11ea_997d_88e9fe67d118row1_col0\" class=\"data row1 col0\" >9</td>\n",
       "                        <td id=\"T_271efd00_f8a5_11ea_997d_88e9fe67d118row1_col1\" class=\"data row1 col1\" >$3.53</td>\n",
       "                        <td id=\"T_271efd00_f8a5_11ea_997d_88e9fe67d118row1_col2\" class=\"data row1 col2\" >$31.77</td>\n",
       "            </tr>\n",
       "            <tr>\n",
       "                        <th id=\"T_271efd00_f8a5_11ea_997d_88e9fe67d118level0_row2\" class=\"row_heading level0 row2\" >Nirvana</th>\n",
       "                        <th id=\"T_271efd00_f8a5_11ea_997d_88e9fe67d118level1_row2\" class=\"row_heading level1 row2\" >82</th>\n",
       "                        <td id=\"T_271efd00_f8a5_11ea_997d_88e9fe67d118row2_col0\" class=\"data row2 col0\" >9</td>\n",
       "                        <td id=\"T_271efd00_f8a5_11ea_997d_88e9fe67d118row2_col1\" class=\"data row2 col1\" >$4.90</td>\n",
       "                        <td id=\"T_271efd00_f8a5_11ea_997d_88e9fe67d118row2_col2\" class=\"data row2 col2\" >$44.10</td>\n",
       "            </tr>\n",
       "            <tr>\n",
       "                        <th id=\"T_271efd00_f8a5_11ea_997d_88e9fe67d118level0_row3\" class=\"row_heading level0 row3\" >Fiery Glass Crusader</th>\n",
       "                        <th id=\"T_271efd00_f8a5_11ea_997d_88e9fe67d118level1_row3\" class=\"row_heading level1 row3\" >145</th>\n",
       "                        <td id=\"T_271efd00_f8a5_11ea_997d_88e9fe67d118row3_col0\" class=\"data row3 col0\" >9</td>\n",
       "                        <td id=\"T_271efd00_f8a5_11ea_997d_88e9fe67d118row3_col1\" class=\"data row3 col1\" >$4.58</td>\n",
       "                        <td id=\"T_271efd00_f8a5_11ea_997d_88e9fe67d118row3_col2\" class=\"data row3 col2\" >$41.22</td>\n",
       "            </tr>\n",
       "            <tr>\n",
       "                        <th id=\"T_271efd00_f8a5_11ea_997d_88e9fe67d118level0_row4\" class=\"row_heading level0 row4\" >Pursuit, Cudgel of Necromancy</th>\n",
       "                        <th id=\"T_271efd00_f8a5_11ea_997d_88e9fe67d118level1_row4\" class=\"row_heading level1 row4\" >19</th>\n",
       "                        <td id=\"T_271efd00_f8a5_11ea_997d_88e9fe67d118row4_col0\" class=\"data row4 col0\" >8</td>\n",
       "                        <td id=\"T_271efd00_f8a5_11ea_997d_88e9fe67d118row4_col1\" class=\"data row4 col1\" >$1.02</td>\n",
       "                        <td id=\"T_271efd00_f8a5_11ea_997d_88e9fe67d118row4_col2\" class=\"data row4 col2\" >$8.16</td>\n",
       "            </tr>\n",
       "            <tr>\n",
       "                        <th id=\"T_271efd00_f8a5_11ea_997d_88e9fe67d118level0_row5\" class=\"row_heading level0 row5\" >Brutality Ivory Warmace</th>\n",
       "                        <th id=\"T_271efd00_f8a5_11ea_997d_88e9fe67d118level1_row5\" class=\"row_heading level1 row5\" >75</th>\n",
       "                        <td id=\"T_271efd00_f8a5_11ea_997d_88e9fe67d118row5_col0\" class=\"data row5 col0\" >8</td>\n",
       "                        <td id=\"T_271efd00_f8a5_11ea_997d_88e9fe67d118row5_col1\" class=\"data row5 col1\" >$2.42</td>\n",
       "                        <td id=\"T_271efd00_f8a5_11ea_997d_88e9fe67d118row5_col2\" class=\"data row5 col2\" >$19.36</td>\n",
       "            </tr>\n",
       "            <tr>\n",
       "                        <th id=\"T_271efd00_f8a5_11ea_997d_88e9fe67d118level0_row6\" class=\"row_heading level0 row6\" >Singed Scalpel</th>\n",
       "                        <th id=\"T_271efd00_f8a5_11ea_997d_88e9fe67d118level1_row6\" class=\"row_heading level1 row6\" >103</th>\n",
       "                        <td id=\"T_271efd00_f8a5_11ea_997d_88e9fe67d118row6_col0\" class=\"data row6 col0\" >8</td>\n",
       "                        <td id=\"T_271efd00_f8a5_11ea_997d_88e9fe67d118row6_col1\" class=\"data row6 col1\" >$4.35</td>\n",
       "                        <td id=\"T_271efd00_f8a5_11ea_997d_88e9fe67d118row6_col2\" class=\"data row6 col2\" >$34.80</td>\n",
       "            </tr>\n",
       "            <tr>\n",
       "                        <th id=\"T_271efd00_f8a5_11ea_997d_88e9fe67d118level0_row7\" class=\"row_heading level0 row7\" >Shadow Strike, Glory of Ending Hope</th>\n",
       "                        <th id=\"T_271efd00_f8a5_11ea_997d_88e9fe67d118level1_row7\" class=\"row_heading level1 row7\" >37</th>\n",
       "                        <td id=\"T_271efd00_f8a5_11ea_997d_88e9fe67d118row7_col0\" class=\"data row7 col0\" >8</td>\n",
       "                        <td id=\"T_271efd00_f8a5_11ea_997d_88e9fe67d118row7_col1\" class=\"data row7 col1\" >$3.16</td>\n",
       "                        <td id=\"T_271efd00_f8a5_11ea_997d_88e9fe67d118row7_col2\" class=\"data row7 col2\" >$25.28</td>\n",
       "            </tr>\n",
       "            <tr>\n",
       "                        <th id=\"T_271efd00_f8a5_11ea_997d_88e9fe67d118level0_row8\" class=\"row_heading level0 row8\" >Final Critic</th>\n",
       "                        <th id=\"T_271efd00_f8a5_11ea_997d_88e9fe67d118level1_row8\" class=\"row_heading level1 row8\" >92</th>\n",
       "                        <td id=\"T_271efd00_f8a5_11ea_997d_88e9fe67d118row8_col0\" class=\"data row8 col0\" >8</td>\n",
       "                        <td id=\"T_271efd00_f8a5_11ea_997d_88e9fe67d118row8_col1\" class=\"data row8 col1\" >$4.88</td>\n",
       "                        <td id=\"T_271efd00_f8a5_11ea_997d_88e9fe67d118row8_col2\" class=\"data row8 col2\" >$39.04</td>\n",
       "            </tr>\n",
       "            <tr>\n",
       "                        <th id=\"T_271efd00_f8a5_11ea_997d_88e9fe67d118level0_row9\" class=\"row_heading level0 row9\" >Retribution Axe</th>\n",
       "                        <th id=\"T_271efd00_f8a5_11ea_997d_88e9fe67d118level1_row9\" class=\"row_heading level1 row9\" >34</th>\n",
       "                        <td id=\"T_271efd00_f8a5_11ea_997d_88e9fe67d118row9_col0\" class=\"data row9 col0\" >8</td>\n",
       "                        <td id=\"T_271efd00_f8a5_11ea_997d_88e9fe67d118row9_col1\" class=\"data row9 col1\" >$2.22</td>\n",
       "                        <td id=\"T_271efd00_f8a5_11ea_997d_88e9fe67d118row9_col2\" class=\"data row9 col2\" >$17.76</td>\n",
       "            </tr>\n",
       "    </tbody></table>"
      ],
      "text/plain": [
       "<pandas.io.formats.style.Styler at 0x11b2a39d0>"
      ]
     },
     "execution_count": 657,
     "metadata": {},
     "output_type": "execute_result"
    }
   ],
   "source": [
    "df_sec = df.loc[:, ['Item ID', 'Item Name', 'Price']]\n",
    "df_sec\n",
    "df_price = df.loc[:,[\"Price\"]]\n",
    "\n",
    "#Group by Item Name & ItemID\n",
    "#Purchase Count\n",
    "#Item Price\n",
    "#Total Purchase Value\n",
    "\n",
    "gb_Item_Name_ID = df_sec.groupby([\"Item Name\", \"Item ID\"])\n",
    "Purchase_count = gb_Item_Name_ID[\"Item Name\"].count()\n",
    "Purchase_count\n",
    "Purchase_count_series = pd.Series(Purchase_count)\n",
    "\n",
    "Total_Purchase_Value = gb_Item_Name_ID[\"Price\"].sum()\n",
    "Total_Purchase_Value\n",
    "Total_Purchase_Value_series = pd.Series(Total_Purchase_Value)\n",
    "\n",
    "Item_Price = gb_Item_Name_ID[\"Price\"].mean()\n",
    "Item_Price\n",
    "Item_Price_series = pd.Series(Item_Price)\n",
    "\n",
    "\n",
    "\n",
    "frame_popular_items = {\"Purchase Count\": Purchase_count_series, \"Item Price\": Item_Price_series, \"Total Purchase Value\": Total_Purchase_Value_series}\n",
    "format_items = {'Item Price': '${0:,.2f}', \"Total Purchase Value\": '${0:,.2f}'}\n",
    "Most_Popular_Items = pd.DataFrame(frame_popular_items)\n",
    "# type(Most_Popular_Items)\n",
    "Most_Popular_Items\n",
    "# Most_Popular_Items_sort = pd.concat([Most_Popular_Items, df_price], axis = , join = 'outer')\n",
    "# Most_Popular_Items_sort\n",
    "\n",
    "Most_Popular_Items.sort_values('Purchase Count', ascending = False).head(10).style.format(format_items)\n",
    "\n",
    "# Item_price = gb_Item_Name_ID[\"Price\"]\n",
    "# Price\n",
    "# # Purchase_value =gb_Item_Name_ID[\"Price\"].sum()\n",
    "\n",
    "\n"
   ]
  },
  {
   "cell_type": "markdown",
   "metadata": {},
   "source": [
    "## Most Profitable Items"
   ]
  },
  {
   "cell_type": "markdown",
   "metadata": {},
   "source": [
    "* Sort the above table by total purchase value in descending order\n",
    "\n",
    "\n",
    "* Optional: give the displayed data cleaner formatting\n",
    "\n",
    "\n",
    "* Display a preview of the data frame\n",
    "\n"
   ]
  },
  {
   "cell_type": "code",
   "execution_count": 662,
   "metadata": {
    "scrolled": true
   },
   "outputs": [
    {
     "data": {
      "text/html": [
       "<style  type=\"text/css\" >\n",
       "</style><table id=\"T_be1b35f2_f8a5_11ea_997d_88e9fe67d118\" ><thead>    <tr>        <th class=\"blank\" ></th>        <th class=\"blank level0\" ></th>        <th class=\"col_heading level0 col0\" >Purchase Count</th>        <th class=\"col_heading level0 col1\" >Item Price</th>        <th class=\"col_heading level0 col2\" >Total Purchase Value</th>    </tr>    <tr>        <th class=\"index_name level0\" >Item Name</th>        <th class=\"index_name level1\" >Item ID</th>        <th class=\"blank\" ></th>        <th class=\"blank\" ></th>        <th class=\"blank\" ></th>    </tr></thead><tbody>\n",
       "                <tr>\n",
       "                        <th id=\"T_be1b35f2_f8a5_11ea_997d_88e9fe67d118level0_row0\" class=\"row_heading level0 row0\" >Oathbreaker, Last Hope of the Breaking Storm</th>\n",
       "                        <th id=\"T_be1b35f2_f8a5_11ea_997d_88e9fe67d118level1_row0\" class=\"row_heading level1 row0\" >178</th>\n",
       "                        <td id=\"T_be1b35f2_f8a5_11ea_997d_88e9fe67d118row0_col0\" class=\"data row0 col0\" >12</td>\n",
       "                        <td id=\"T_be1b35f2_f8a5_11ea_997d_88e9fe67d118row0_col1\" class=\"data row0 col1\" >$4.23</td>\n",
       "                        <td id=\"T_be1b35f2_f8a5_11ea_997d_88e9fe67d118row0_col2\" class=\"data row0 col2\" >$50.76</td>\n",
       "            </tr>\n",
       "            <tr>\n",
       "                        <th id=\"T_be1b35f2_f8a5_11ea_997d_88e9fe67d118level0_row1\" class=\"row_heading level0 row1\" >Nirvana</th>\n",
       "                        <th id=\"T_be1b35f2_f8a5_11ea_997d_88e9fe67d118level1_row1\" class=\"row_heading level1 row1\" >82</th>\n",
       "                        <td id=\"T_be1b35f2_f8a5_11ea_997d_88e9fe67d118row1_col0\" class=\"data row1 col0\" >9</td>\n",
       "                        <td id=\"T_be1b35f2_f8a5_11ea_997d_88e9fe67d118row1_col1\" class=\"data row1 col1\" >$4.90</td>\n",
       "                        <td id=\"T_be1b35f2_f8a5_11ea_997d_88e9fe67d118row1_col2\" class=\"data row1 col2\" >$44.10</td>\n",
       "            </tr>\n",
       "            <tr>\n",
       "                        <th id=\"T_be1b35f2_f8a5_11ea_997d_88e9fe67d118level0_row2\" class=\"row_heading level0 row2\" >Fiery Glass Crusader</th>\n",
       "                        <th id=\"T_be1b35f2_f8a5_11ea_997d_88e9fe67d118level1_row2\" class=\"row_heading level1 row2\" >145</th>\n",
       "                        <td id=\"T_be1b35f2_f8a5_11ea_997d_88e9fe67d118row2_col0\" class=\"data row2 col0\" >9</td>\n",
       "                        <td id=\"T_be1b35f2_f8a5_11ea_997d_88e9fe67d118row2_col1\" class=\"data row2 col1\" >$4.58</td>\n",
       "                        <td id=\"T_be1b35f2_f8a5_11ea_997d_88e9fe67d118row2_col2\" class=\"data row2 col2\" >$41.22</td>\n",
       "            </tr>\n",
       "            <tr>\n",
       "                        <th id=\"T_be1b35f2_f8a5_11ea_997d_88e9fe67d118level0_row3\" class=\"row_heading level0 row3\" >Final Critic</th>\n",
       "                        <th id=\"T_be1b35f2_f8a5_11ea_997d_88e9fe67d118level1_row3\" class=\"row_heading level1 row3\" >92</th>\n",
       "                        <td id=\"T_be1b35f2_f8a5_11ea_997d_88e9fe67d118row3_col0\" class=\"data row3 col0\" >8</td>\n",
       "                        <td id=\"T_be1b35f2_f8a5_11ea_997d_88e9fe67d118row3_col1\" class=\"data row3 col1\" >$4.88</td>\n",
       "                        <td id=\"T_be1b35f2_f8a5_11ea_997d_88e9fe67d118row3_col2\" class=\"data row3 col2\" >$39.04</td>\n",
       "            </tr>\n",
       "            <tr>\n",
       "                        <th id=\"T_be1b35f2_f8a5_11ea_997d_88e9fe67d118level0_row4\" class=\"row_heading level0 row4\" >Singed Scalpel</th>\n",
       "                        <th id=\"T_be1b35f2_f8a5_11ea_997d_88e9fe67d118level1_row4\" class=\"row_heading level1 row4\" >103</th>\n",
       "                        <td id=\"T_be1b35f2_f8a5_11ea_997d_88e9fe67d118row4_col0\" class=\"data row4 col0\" >8</td>\n",
       "                        <td id=\"T_be1b35f2_f8a5_11ea_997d_88e9fe67d118row4_col1\" class=\"data row4 col1\" >$4.35</td>\n",
       "                        <td id=\"T_be1b35f2_f8a5_11ea_997d_88e9fe67d118row4_col2\" class=\"data row4 col2\" >$34.80</td>\n",
       "            </tr>\n",
       "            <tr>\n",
       "                        <th id=\"T_be1b35f2_f8a5_11ea_997d_88e9fe67d118level0_row5\" class=\"row_heading level0 row5\" >Lightning, Etcher of the King</th>\n",
       "                        <th id=\"T_be1b35f2_f8a5_11ea_997d_88e9fe67d118level1_row5\" class=\"row_heading level1 row5\" >59</th>\n",
       "                        <td id=\"T_be1b35f2_f8a5_11ea_997d_88e9fe67d118row5_col0\" class=\"data row5 col0\" >8</td>\n",
       "                        <td id=\"T_be1b35f2_f8a5_11ea_997d_88e9fe67d118row5_col1\" class=\"data row5 col1\" >$4.23</td>\n",
       "                        <td id=\"T_be1b35f2_f8a5_11ea_997d_88e9fe67d118row5_col2\" class=\"data row5 col2\" >$33.84</td>\n",
       "            </tr>\n",
       "            <tr>\n",
       "                        <th id=\"T_be1b35f2_f8a5_11ea_997d_88e9fe67d118level0_row6\" class=\"row_heading level0 row6\" >Extraction, Quickblade Of Trembling Hands</th>\n",
       "                        <th id=\"T_be1b35f2_f8a5_11ea_997d_88e9fe67d118level1_row6\" class=\"row_heading level1 row6\" >108</th>\n",
       "                        <td id=\"T_be1b35f2_f8a5_11ea_997d_88e9fe67d118row6_col0\" class=\"data row6 col0\" >9</td>\n",
       "                        <td id=\"T_be1b35f2_f8a5_11ea_997d_88e9fe67d118row6_col1\" class=\"data row6 col1\" >$3.53</td>\n",
       "                        <td id=\"T_be1b35f2_f8a5_11ea_997d_88e9fe67d118row6_col2\" class=\"data row6 col2\" >$31.77</td>\n",
       "            </tr>\n",
       "            <tr>\n",
       "                        <th id=\"T_be1b35f2_f8a5_11ea_997d_88e9fe67d118level0_row7\" class=\"row_heading level0 row7\" >Glimmer, Ender of the Moon</th>\n",
       "                        <th id=\"T_be1b35f2_f8a5_11ea_997d_88e9fe67d118level1_row7\" class=\"row_heading level1 row7\" >78</th>\n",
       "                        <td id=\"T_be1b35f2_f8a5_11ea_997d_88e9fe67d118row7_col0\" class=\"data row7 col0\" >7</td>\n",
       "                        <td id=\"T_be1b35f2_f8a5_11ea_997d_88e9fe67d118row7_col1\" class=\"data row7 col1\" >$4.40</td>\n",
       "                        <td id=\"T_be1b35f2_f8a5_11ea_997d_88e9fe67d118row7_col2\" class=\"data row7 col2\" >$30.80</td>\n",
       "            </tr>\n",
       "            <tr>\n",
       "                        <th id=\"T_be1b35f2_f8a5_11ea_997d_88e9fe67d118level0_row8\" class=\"row_heading level0 row8\" >Winter's Bite</th>\n",
       "                        <th id=\"T_be1b35f2_f8a5_11ea_997d_88e9fe67d118level1_row8\" class=\"row_heading level1 row8\" >72</th>\n",
       "                        <td id=\"T_be1b35f2_f8a5_11ea_997d_88e9fe67d118row8_col0\" class=\"data row8 col0\" >8</td>\n",
       "                        <td id=\"T_be1b35f2_f8a5_11ea_997d_88e9fe67d118row8_col1\" class=\"data row8 col1\" >$3.77</td>\n",
       "                        <td id=\"T_be1b35f2_f8a5_11ea_997d_88e9fe67d118row8_col2\" class=\"data row8 col2\" >$30.16</td>\n",
       "            </tr>\n",
       "            <tr>\n",
       "                        <th id=\"T_be1b35f2_f8a5_11ea_997d_88e9fe67d118level0_row9\" class=\"row_heading level0 row9\" >Wolf</th>\n",
       "                        <th id=\"T_be1b35f2_f8a5_11ea_997d_88e9fe67d118level1_row9\" class=\"row_heading level1 row9\" >60</th>\n",
       "                        <td id=\"T_be1b35f2_f8a5_11ea_997d_88e9fe67d118row9_col0\" class=\"data row9 col0\" >8</td>\n",
       "                        <td id=\"T_be1b35f2_f8a5_11ea_997d_88e9fe67d118row9_col1\" class=\"data row9 col1\" >$3.54</td>\n",
       "                        <td id=\"T_be1b35f2_f8a5_11ea_997d_88e9fe67d118row9_col2\" class=\"data row9 col2\" >$28.32</td>\n",
       "            </tr>\n",
       "    </tbody></table>"
      ],
      "text/plain": [
       "<pandas.io.formats.style.Styler at 0x11b05fe10>"
      ]
     },
     "execution_count": 662,
     "metadata": {},
     "output_type": "execute_result"
    }
   ],
   "source": [
    "\n",
    "Most_Popular_Items.sort_values(\"Total Purchase Value\", ascending = False).head(10).style.format(format_items)"
   ]
  },
  {
   "cell_type": "code",
   "execution_count": null,
   "metadata": {},
   "outputs": [],
   "source": []
  },
  {
   "cell_type": "code",
   "execution_count": null,
   "metadata": {},
   "outputs": [],
   "source": []
  }
 ],
 "metadata": {
  "anaconda-cloud": {},
  "kernel_info": {
   "name": "python3"
  },
  "kernelspec": {
   "display_name": "Python 3",
   "language": "python",
   "name": "python3"
  },
  "language_info": {
   "codemirror_mode": {
    "name": "ipython",
    "version": 3
   },
   "file_extension": ".py",
   "mimetype": "text/x-python",
   "name": "python",
   "nbconvert_exporter": "python",
   "pygments_lexer": "ipython3",
   "version": "3.7.8"
  },
  "nteract": {
   "version": "0.2.0"
  }
 },
 "nbformat": 4,
 "nbformat_minor": 4
}
